{
  "nbformat": 4,
  "nbformat_minor": 0,
  "metadata": {
    "colab": {
      "name": "predict_reward.ipynb",
      "provenance": [],
      "collapsed_sections": []
    },
    "kernelspec": {
      "name": "python3",
      "display_name": "Python 3"
    },
    "accelerator": "GPU"
  },
  "cells": [
    {
      "cell_type": "markdown",
      "metadata": {
        "id": "7w2EdQrNB3h5",
        "colab_type": "text"
      },
      "source": [
        "## Using neural network create a predictor which when given observation and action outputs the collected reward."
      ]
    },
    {
      "cell_type": "code",
      "metadata": {
        "id": "AFerdWGlaTpK",
        "colab_type": "code",
        "colab": {}
      },
      "source": [
        "import numpy as np\n",
        "import torch\n",
        "from torch import nn\n",
        "import torch.nn.functional as F\n",
        "from copy import deepcopy\n",
        "\n",
        "import numpy as np\n",
        "from tqdm import trange\n",
        "import glob\n",
        "import io\n",
        "import base64\n",
        "from IPython.display import HTML\n",
        "\n",
        "from IPython import display as ipythondisplay\n",
        "import pickle"
      ],
      "execution_count": 1,
      "outputs": []
    },
    {
      "cell_type": "code",
      "metadata": {
        "id": "ebPXlkW3aWs4",
        "colab_type": "code",
        "colab": {}
      },
      "source": [
        "CUDA = torch.cuda.is_available()\n",
        "\n",
        "def to_np(x):\n",
        "    return x.detach().cpu().numpy()\n",
        "\n",
        "def to_tensor(x, requires_grad=False):\n",
        "    x = torch.from_numpy(x)\n",
        "    if CUDA:\n",
        "        x = x.cuda()\n",
        "    \n",
        "    if requires_grad:\n",
        "        return x.clone().contiguous().detach().requires_grad_(True)\n",
        "    else:\n",
        "        return x.clone().contiguous().detach()\n",
        "\n",
        "    \n",
        "class Network(nn.Module):\n",
        "    def __init__(self):\n",
        "        super(Network, self).__init__()\n",
        "        self.layers = nn.Sequential(\n",
        "            nn.Linear(119, 500),\n",
        "            nn.Tanh(),\n",
        "            nn.Linear(500, 500),\n",
        "            nn.Tanh(),\n",
        "            nn.Linear(500, 500),\n",
        "            nn.Tanh(),\n",
        "            nn.Linear(500, 1)\n",
        "        )\n",
        "        self.loss = nn.MSELoss()\n",
        "        \n",
        "        \n",
        "    def forward(self, X):\n",
        "        X = X.view(X.size(0), -1)\n",
        "        return self.layers.forward(X)"
      ],
      "execution_count": 2,
      "outputs": []
    },
    {
      "cell_type": "code",
      "metadata": {
        "id": "cL4-E5X0adn1",
        "colab_type": "code",
        "colab": {}
      },
      "source": [
        "def train(net=Network()):\n",
        "    if CUDA:\n",
        "        net = net.cuda()\n",
        "\n",
        "    optimizer = torch.optim.SGD(net.parameters(), lr=0.001, momentum=0.9)\n",
        "\n",
        "    for _ in trange(1000, position=0, leave=True):\n",
        "        for bch in range(10):\n",
        "            d = pickle.load(open(f'drive/My Drive/project_evo/data/b{bch}.pkl', 'rb'))\n",
        "            X, Y = d['X'], d['Y']\n",
        "            if CUDA:\n",
        "                X, Y = X.cuda(), Y.cuda()\n",
        "\n",
        "            for i in range(0, len(X), 200):\n",
        "                preds = net(X[i : i+200])\n",
        "                optimizer.zero_grad()\n",
        "                loss = net.loss(Y[i : 200+i], preds)\n",
        "                loss.backward()\n",
        "                optimizer.step()\n",
        "    return net"
      ],
      "execution_count": null,
      "outputs": []
    },
    {
      "cell_type": "code",
      "metadata": {
        "id": "gAS2EC9-uSGZ",
        "colab_type": "code",
        "colab": {
          "base_uri": "https://localhost:8080/",
          "height": 34
        },
        "outputId": "47b96661-4738-4c0b-f615-3389062bbfc7"
      },
      "source": [
        "net = train()"
      ],
      "execution_count": null,
      "outputs": [
        {
          "output_type": "stream",
          "text": [
            "100%|██████████| 1000/1000 [4:32:59<00:00, 16.38s/it]\n"
          ],
          "name": "stderr"
        }
      ]
    },
    {
      "cell_type": "code",
      "metadata": {
        "id": "Fi-8GTBH2ASE",
        "colab_type": "code",
        "colab": {
          "base_uri": "https://localhost:8080/",
          "height": 34
        },
        "outputId": "ace0bd37-6a00-4a80-ecd8-f9c93986279b"
      },
      "source": [
        "L = []\n",
        "with torch.no_grad():\n",
        "    for bch in range(10):\n",
        "        d = pickle.load(open(f'drive/My Drive/project_evo/data/b{bch}.pkl', 'rb'))\n",
        "        X, Y = d['X'][:500], d['Y'][:500]\n",
        "        if CUDA:\n",
        "            X, Y = X.cuda(), Y.cuda()\n",
        "\n",
        "        preds = net(X)\n",
        "        loss = net.loss(Y, preds)\n",
        "        L.append(loss.item())\n",
        "print(np.mean(L))"
      ],
      "execution_count": null,
      "outputs": [
        {
          "output_type": "stream",
          "text": [
            "0.00546825596319721\n"
          ],
          "name": "stdout"
        }
      ]
    },
    {
      "cell_type": "code",
      "metadata": {
        "id": "w-BUFoaE6tK4",
        "colab_type": "code",
        "colab": {
          "base_uri": "https://localhost:8080/"
        },
        "outputId": "01f7c9a0-ccb5-4c98-e097-81484730f3a5"
      },
      "source": [
        "pickle.dump(net, open('drive/My Drive/project_evo/reward_pred/net.pkl', 'w+b'), pickle.HIGHEST_PROTOCOL)\n",
        "pickle.dump(net.to(torch.device('cpu')), open('drive/My Drive/project_evo/reward_pred/net_cpu.pkl', 'w+b'), pickle.HIGHEST_PROTOCOL)"
      ],
      "execution_count": null,
      "outputs": [
        {
          "output_type": "stream",
          "text": [
            "/usr/local/lib/python3.6/dist-packages/torch/storage.py:34: FutureWarning: pickle support for Storage will be removed in 1.5. Use `torch.save` instead\n",
            "  warnings.warn(\"pickle support for Storage will be removed in 1.5. Use `torch.save` instead\", FutureWarning)\n"
          ],
          "name": "stderr"
        }
      ]
    },
    {
      "cell_type": "code",
      "metadata": {
        "id": "Ep_Bc1RTJYAw",
        "colab_type": "code",
        "colab": {}
      },
      "source": [
        "net = pickle.load(open('drive/My Drive/project_evo/reward_pred/net.pkl', 'rb'))"
      ],
      "execution_count": 3,
      "outputs": []
    },
    {
      "cell_type": "markdown",
      "metadata": {
        "id": "BHUeCAdyU74Y",
        "colab_type": "text"
      },
      "source": [
        "## Testing predictor"
      ]
    },
    {
      "cell_type": "markdown",
      "metadata": {
        "id": "gXUrG1rQSkb8",
        "colab_type": "text"
      },
      "source": [
        "### Random agent"
      ]
    },
    {
      "cell_type": "code",
      "metadata": {
        "id": "IzseeDvnS2BO",
        "colab_type": "code",
        "colab": {
          "base_uri": "https://localhost:8080/",
          "height": 411
        },
        "outputId": "7ca7dcb3-1797-4b16-bab3-5c438c571c04"
      },
      "source": [
        "!pip install pybullet==2.5.5\n",
        "\n",
        "%cd /usr/local/lib/python3.6/dist-packages\n",
        "!git clone https://github.com/benelot/pybullet-gym.git\n",
        "%cd pybullet-gym\n",
        "!pip install -e ."
      ],
      "execution_count": 10,
      "outputs": [
        {
          "output_type": "stream",
          "text": [
            "Collecting pybullet==2.5.5\n",
            "\u001b[?25l  Downloading https://files.pythonhosted.org/packages/d4/6c/6b14ae6d1d8f10f16ea82c2c194394564b02c80b88b6e391470046968c7b/pybullet-2.5.5.tar.gz (60.4MB)\n",
            "\u001b[K     |████████████████████████████████| 60.4MB 48kB/s \n",
            "\u001b[?25hBuilding wheels for collected packages: pybullet\n",
            "  Building wheel for pybullet (setup.py) ... \u001b[?25l\u001b[?25hdone\n",
            "  Created wheel for pybullet: filename=pybullet-2.5.5-cp36-cp36m-linux_x86_64.whl size=71822554 sha256=e2fe7d2a614d370bfbffbba3eb76fe9a0b8c3ca415d14154bc0a34287eae5ab3\n",
            "  Stored in directory: /root/.cache/pip/wheels/1d/e4/cc/7b50d6689e1bc6ba07d2df04946a0eabc89deca7caed5f52d1\n",
            "Successfully built pybullet\n",
            "Installing collected packages: pybullet\n",
            "Successfully installed pybullet-2.5.5\n",
            "/usr/local/lib/python3.6/dist-packages\n",
            "Cloning into 'pybullet-gym'...\n",
            "remote: Enumerating objects: 735, done.\u001b[K\n",
            "remote: Total 735 (delta 0), reused 0 (delta 0), pack-reused 735\u001b[K\n",
            "Receiving objects: 100% (735/735), 19.29 MiB | 16.09 MiB/s, done.\n",
            "Resolving deltas: 100% (405/405), done.\n",
            "/usr/local/lib/python3.6/dist-packages/pybullet-gym\n",
            "Obtaining file:///usr/local/lib/python3.6/dist-packages/pybullet-gym\n",
            "Requirement already satisfied: pybullet>=1.7.8 in /usr/local/lib/python3.6/dist-packages (from pybulletgym==0.1) (2.5.5)\n",
            "Installing collected packages: pybulletgym\n",
            "  Running setup.py develop for pybulletgym\n",
            "Successfully installed pybulletgym\n"
          ],
          "name": "stdout"
        }
      ]
    },
    {
      "cell_type": "code",
      "metadata": {
        "id": "4sCjF72_S9Si",
        "colab_type": "code",
        "colab": {}
      },
      "source": [
        "import gym\n",
        "import pybulletgym\n",
        "from gym import logger as gymlogger\n",
        "gymlogger.set_level(40) #error only"
      ],
      "execution_count": 4,
      "outputs": []
    },
    {
      "cell_type": "code",
      "metadata": {
        "id": "xSISsv3WPI6V",
        "colab_type": "code",
        "colab": {
          "base_uri": "https://localhost:8080/",
          "height": 68
        },
        "outputId": "cd16c310-a350-494f-e8df-6edc132c1ab7"
      },
      "source": [
        "env = gym.make(\"AntMuJoCoEnv-v0\")\n",
        "env._max_episode_steps = 5000\n",
        "observation = env.reset()\n",
        "observation = observation.astype(np.float32)\n",
        "\n",
        "preds, reals = [], []\n",
        "\n",
        "for _ in trange(5000, position=0, leave=True):\n",
        "    action = env.action_space.sample()\n",
        "    obs_action = to_tensor(np.append(observation, action).reshape(1, -1).astype(np.float32), )\n",
        "\n",
        "    pred = net(obs_action).item()\n",
        "    preds.append(pred)\n",
        "    \n",
        "    observation, reward, done, info = env.step(action)\n",
        "    observation = observation.astype(np.float32)\n",
        "    reals.append(reward)\n",
        "\n",
        "    if done: \n",
        "        break;\n",
        "\n",
        "env.close()\n",
        "preds, reals = np.array(preds), np.array(reals)"
      ],
      "execution_count": 15,
      "outputs": [
        {
          "output_type": "stream",
          "text": [
            "  1%|          | 40/5000 [00:00<00:12, 399.93it/s]"
          ],
          "name": "stderr"
        },
        {
          "output_type": "stream",
          "text": [
            "WalkerBase::__init__\n",
            "options= \n"
          ],
          "name": "stdout"
        },
        {
          "output_type": "stream",
          "text": [
            " 99%|█████████▉| 4961/5000 [00:12<00:00, 382.03it/s]"
          ],
          "name": "stderr"
        }
      ]
    },
    {
      "cell_type": "code",
      "metadata": {
        "id": "MfwfEWcKSfTn",
        "colab_type": "code",
        "colab": {
          "base_uri": "https://localhost:8080/",
          "height": 34
        },
        "outputId": "971c5ec4-cb4e-4365-bea7-57b9c16ef3b2"
      },
      "source": [
        "np.abs(preds-reals).mean()"
      ],
      "execution_count": 16,
      "outputs": [
        {
          "output_type": "execute_result",
          "data": {
            "text/plain": [
              "0.07642148231714527"
            ]
          },
          "metadata": {
            "tags": []
          },
          "execution_count": 16
        }
      ]
    },
    {
      "cell_type": "code",
      "metadata": {
        "id": "-8_K-LWXSf9h",
        "colab_type": "code",
        "colab": {
          "base_uri": "https://localhost:8080/",
          "height": 34
        },
        "outputId": "b21c2647-ab1d-4ed2-8fc6-a6354dd3c8df"
      },
      "source": [
        "preds.min(), preds.mean(), preds.max()"
      ],
      "execution_count": 17,
      "outputs": [
        {
          "output_type": "execute_result",
          "data": {
            "text/plain": [
              "(0.22161123156547546, 0.5788271162390709, 0.9424511194229126)"
            ]
          },
          "metadata": {
            "tags": []
          },
          "execution_count": 17
        }
      ]
    },
    {
      "cell_type": "code",
      "metadata": {
        "id": "KWvsmBkDShaq",
        "colab_type": "code",
        "colab": {
          "base_uri": "https://localhost:8080/",
          "height": 34
        },
        "outputId": "c2fb18d7-33d9-4af0-8a6a-994ba45ce35c"
      },
      "source": [
        "reals.min(), reals.mean(), reals.max()"
      ],
      "execution_count": 18,
      "outputs": [
        {
          "output_type": "execute_result",
          "data": {
            "text/plain": [
              "(0.20103016860230127, 0.6085227696980585, 1.0996811828343198)"
            ]
          },
          "metadata": {
            "tags": []
          },
          "execution_count": 18
        }
      ]
    },
    {
      "cell_type": "markdown",
      "metadata": {
        "id": "4pttS-ECSnjp",
        "colab_type": "text"
      },
      "source": [
        "### Trained model"
      ]
    },
    {
      "cell_type": "code",
      "metadata": {
        "id": "VXY4h58TVG4N",
        "colab_type": "code",
        "colab": {}
      },
      "source": [
        "class AgentNetwork(nn.Module):\n",
        "    \n",
        "    def __init__(self):\n",
        "        super(AgentNetwork, self).__init__()\n",
        "        self.layers = nn.Sequential(\n",
        "            nn.Linear(111, 100),\n",
        "            nn.Tanh(),\n",
        "            nn.Linear(100, 8),\n",
        "            nn.Tanh()\n",
        "        )\n",
        "\n",
        "        \n",
        "    def forward(self, X):\n",
        "        X = X.view(X.size(0), -1)\n",
        "        return self.layers.forward(X)\n",
        "    \n",
        "    \n",
        "    def set_params(self, params):\n",
        "        cpt = 0\n",
        "        for param in self.parameters():\n",
        "            tmp = np.product(param.size())\n",
        "\n",
        "            if torch.cuda.is_available():\n",
        "                param.data.copy_(to_tensor(\n",
        "                    params[cpt:cpt + tmp]).view(param.size()).cuda())\n",
        "            else:\n",
        "                param.data.copy_(to_tensor(\n",
        "                    params[cpt:cpt + tmp]).view(param.size()))\n",
        "            cpt += tmp\n",
        "\n",
        "            \n",
        "    def get_params(self):\n",
        "        return deepcopy(np.hstack([to_np(v).flatten() for v in\n",
        "                                   self.parameters()]))"
      ],
      "execution_count": 9,
      "outputs": []
    },
    {
      "cell_type": "code",
      "metadata": {
        "id": "M2gwpkgkSiwU",
        "colab_type": "code",
        "colab": {}
      },
      "source": [
        "ind = pickle.load(open('drive/My Drive/project_evo/history/1000.pkl', 'rb'))['best']\n",
        "actor = AgentNetwork().cuda()\n",
        "actor.set_params(ind)"
      ],
      "execution_count": 10,
      "outputs": []
    },
    {
      "cell_type": "code",
      "metadata": {
        "id": "hFOnKVL8SscH",
        "colab_type": "code",
        "colab": {
          "base_uri": "https://localhost:8080/",
          "height": 68
        },
        "outputId": "166a20ba-f501-406a-fc68-3cf93090d57c"
      },
      "source": [
        "env = gym.make(\"AntMuJoCoEnv-v0\")\n",
        "env._max_episode_steps = 5000\n",
        "observation = env.reset()\n",
        "observation = to_tensor(observation.reshape(1, -1).astype(np.float32))\n",
        "\n",
        "preds, reals = [], []\n",
        "\n",
        "\n",
        "for _ in trange(5000, position=0, leave=True):\n",
        "    action = actor(observation).view(1, -1)\n",
        "    obs_action = torch.cat((observation, action), 1)\n",
        "\n",
        "    pred = net(obs_action).item()\n",
        "    preds.append(pred)\n",
        "    \n",
        "    observation, reward, done, info = env.step(to_np(action.view(-1).to('cpu')))\n",
        "    observation = to_tensor(observation.reshape(1, -1).astype(np.float32))\n",
        "\n",
        "    reals.append(reward)\n",
        "    if done: \n",
        "        break;\n",
        "            \n",
        "env.close()\n",
        "preds, reals = np.array(preds), np.array(reals)"
      ],
      "execution_count": 11,
      "outputs": [
        {
          "output_type": "stream",
          "text": [
            "  1%|          | 37/5000 [00:00<00:13, 367.30it/s]"
          ],
          "name": "stderr"
        },
        {
          "output_type": "stream",
          "text": [
            "WalkerBase::__init__\n",
            "options= \n"
          ],
          "name": "stdout"
        },
        {
          "output_type": "stream",
          "text": [
            "100%|█████████▉| 4991/5000 [00:13<00:00, 366.13it/s]"
          ],
          "name": "stderr"
        }
      ]
    },
    {
      "cell_type": "code",
      "metadata": {
        "id": "4LYIy_y4SuER",
        "colab_type": "code",
        "colab": {
          "base_uri": "https://localhost:8080/",
          "height": 34
        },
        "outputId": "05f63940-041b-4ea7-d1e1-b9bf0feb5cad"
      },
      "source": [
        "np.abs(preds-reals).mean()"
      ],
      "execution_count": 12,
      "outputs": [
        {
          "output_type": "execute_result",
          "data": {
            "text/plain": [
              "0.08532460161497292"
            ]
          },
          "metadata": {
            "tags": []
          },
          "execution_count": 12
        }
      ]
    },
    {
      "cell_type": "code",
      "metadata": {
        "id": "bkQgrfjcSvKw",
        "colab_type": "code",
        "colab": {
          "base_uri": "https://localhost:8080/",
          "height": 34
        },
        "outputId": "02654236-8ef0-43fc-e99e-79ff7509372b"
      },
      "source": [
        "preds.min(), preds.mean(), preds.max()"
      ],
      "execution_count": 13,
      "outputs": [
        {
          "output_type": "execute_result",
          "data": {
            "text/plain": [
              "(-1.2780717611312866, 0.9191121489018201, 3.3176541328430176)"
            ]
          },
          "metadata": {
            "tags": []
          },
          "execution_count": 13
        }
      ]
    },
    {
      "cell_type": "code",
      "metadata": {
        "id": "lPjWxgFbSxQK",
        "colab_type": "code",
        "colab": {
          "base_uri": "https://localhost:8080/",
          "height": 34
        },
        "outputId": "f46620f0-49d9-4537-ab7f-665b893d205a"
      },
      "source": [
        "reals.min(), reals.mean(), reals.max()"
      ],
      "execution_count": 14,
      "outputs": [
        {
          "output_type": "execute_result",
          "data": {
            "text/plain": [
              "(-1.2710890481976094, 0.916044231693701, 3.2882286245570866)"
            ]
          },
          "metadata": {
            "tags": []
          },
          "execution_count": 14
        }
      ]
    }
  ]
}