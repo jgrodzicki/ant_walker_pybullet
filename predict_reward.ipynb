{
  "nbformat": 4,
  "nbformat_minor": 0,
  "metadata": {
    "colab": {
      "name": "predict_reward.ipynb",
      "provenance": [],
      "collapsed_sections": []
    },
    "kernelspec": {
      "name": "python3",
      "display_name": "Python 3"
    },
    "accelerator": "GPU"
  },
  "cells": [
    {
      "cell_type": "markdown",
      "metadata": {
        "id": "7w2EdQrNB3h5",
        "colab_type": "text"
      },
      "source": [
        "## Using neural network create a predictor which when given observation and action outputs the collected reward."
      ]
    },
    {
      "cell_type": "code",
      "metadata": {
        "id": "AFerdWGlaTpK",
        "colab_type": "code",
        "colab": {}
      },
      "source": [
        "import numpy as np\n",
        "import torch\n",
        "from torch import nn\n",
        "import torch.nn.functional as F\n",
        "from copy import deepcopy\n",
        "\n",
        "import numpy as np\n",
        "from tqdm import trange\n",
        "import glob\n",
        "import io\n",
        "import base64\n",
        "from IPython.display import HTML\n",
        "\n",
        "from IPython import display as ipythondisplay\n",
        "import pickle"
      ],
      "execution_count": 1,
      "outputs": []
    },
    {
      "cell_type": "code",
      "metadata": {
        "id": "ebPXlkW3aWs4",
        "colab_type": "code",
        "colab": {}
      },
      "source": [
        "CUDA = torch.cuda.is_available()\n",
        "\n",
        "def to_np(x):\n",
        "    return x.detach().cpu().numpy()\n",
        "\n",
        "def to_tensor(x, requires_grad=False):\n",
        "    x = torch.from_numpy(x)\n",
        "    if CUDA:\n",
        "        x = x.cuda()\n",
        "    \n",
        "    if requires_grad:\n",
        "        return x.clone().contiguous().detach().requires_grad_(True)\n",
        "    else:\n",
        "        return x.clone().contiguous().detach()\n",
        "\n",
        "    \n",
        "class Network(nn.Module):\n",
        "    def __init__(self):\n",
        "        super(Network, self).__init__()\n",
        "        self.layers = nn.Sequential(\n",
        "            nn.Linear(119, 500),\n",
        "            nn.Tanh(),\n",
        "            nn.Linear(500, 500),\n",
        "            nn.Tanh(),\n",
        "            nn.Linear(500, 500),\n",
        "            nn.Tanh(),\n",
        "            nn.Linear(500, 1)\n",
        "        )\n",
        "        self.loss = nn.MSELoss()\n",
        "        \n",
        "        \n",
        "    def forward(self, X):\n",
        "        X = X.view(X.size(0), -1)\n",
        "        return self.layers.forward(X)"
      ],
      "execution_count": 2,
      "outputs": []
    },
    {
      "cell_type": "code",
      "metadata": {
        "id": "cL4-E5X0adn1",
        "colab_type": "code",
        "colab": {}
      },
      "source": [
        "def train(net=Network()):\n",
        "    if CUDA:\n",
        "        net = net.cuda()\n",
        "\n",
        "    optimizer = torch.optim.SGD(net.parameters(), lr=0.001, momentum=0.9)\n",
        "\n",
        "    for _ in trange(1000, position=0, leave=True):\n",
        "        for bch in range(10):\n",
        "            d = pickle.load(open(f'drive/My Drive/project_evo/data/b{bch}.pkl', 'rb'))\n",
        "            X, Y = d['X'], d['Y']\n",
        "            if CUDA:\n",
        "                X, Y = X.cuda(), Y.cuda()\n",
        "\n",
        "            for i in range(0, len(X), 200):\n",
        "                preds = net(X[i : i+200])\n",
        "                optimizer.zero_grad()\n",
        "                loss = net.loss(Y[i : 200+i], preds)\n",
        "                loss.backward()\n",
        "                optimizer.step()\n",
        "    return net"
      ],
      "execution_count": null,
      "outputs": []
    },
    {
      "cell_type": "code",
      "metadata": {
        "id": "gAS2EC9-uSGZ",
        "colab_type": "code",
        "colab": {
          "base_uri": "https://localhost:8080/",
          "height": 34
        },
        "outputId": "47b96661-4738-4c0b-f615-3389062bbfc7"
      },
      "source": [
        "net = train()"
      ],
      "execution_count": null,
      "outputs": [
        {
          "output_type": "stream",
          "text": [
            "100%|██████████| 1000/1000 [4:32:59<00:00, 16.38s/it]\n"
          ],
          "name": "stderr"
        }
      ]
    },
    {
      "cell_type": "code",
      "metadata": {
        "id": "Fi-8GTBH2ASE",
        "colab_type": "code",
        "colab": {
          "base_uri": "https://localhost:8080/",
          "height": 34
        },
        "outputId": "ace0bd37-6a00-4a80-ecd8-f9c93986279b"
      },
      "source": [
        "L = []\n",
        "with torch.no_grad():\n",
        "    for bch in range(10):\n",
        "        d = pickle.load(open(f'drive/My Drive/project_evo/data/b{bch}.pkl', 'rb'))\n",
        "        X, Y = d['X'][:500], d['Y'][:500]\n",
        "        if CUDA:\n",
        "            X, Y = X.cuda(), Y.cuda()\n",
        "\n",
        "        preds = net(X)\n",
        "        loss = net.loss(Y, preds)\n",
        "        L.append(loss.item())\n",
        "print(np.mean(L))"
      ],
      "execution_count": 5,
      "outputs": [
        {
          "output_type": "stream",
          "text": [
            "0.00546825596319721\n"
          ],
          "name": "stdout"
        }
      ]
    },
    {
      "cell_type": "code",
      "metadata": {
        "id": "w-BUFoaE6tK4",
        "colab_type": "code",
        "colab": {
          "base_uri": "https://localhost:8080/"
        },
        "outputId": "01f7c9a0-ccb5-4c98-e097-81484730f3a5"
      },
      "source": [
        "pickle.dump(net, open('drive/My Drive/project_evo/reward_pred/net.pkl', 'w+b'), pickle.HIGHEST_PROTOCOL)\n",
        "pickle.dump(net.to(torch.device('cpu')), open('drive/My Drive/project_evo/reward_pred/net_cpu.pkl', 'w+b'), pickle.HIGHEST_PROTOCOL)"
      ],
      "execution_count": null,
      "outputs": [
        {
          "output_type": "stream",
          "text": [
            "/usr/local/lib/python3.6/dist-packages/torch/storage.py:34: FutureWarning: pickle support for Storage will be removed in 1.5. Use `torch.save` instead\n",
            "  warnings.warn(\"pickle support for Storage will be removed in 1.5. Use `torch.save` instead\", FutureWarning)\n"
          ],
          "name": "stderr"
        }
      ]
    },
    {
      "cell_type": "code",
      "metadata": {
        "id": "Ep_Bc1RTJYAw",
        "colab_type": "code",
        "colab": {}
      },
      "source": [
        "net = pickle.load(open('drive/My Drive/project_evo/reward_pred/net.pkl', 'rb'))"
      ],
      "execution_count": 3,
      "outputs": []
    },
    {
      "cell_type": "code",
      "metadata": {
        "id": "xSISsv3WPI6V",
        "colab_type": "code",
        "colab": {}
      },
      "source": [
        ""
      ],
      "execution_count": null,
      "outputs": []
    }
  ]
}