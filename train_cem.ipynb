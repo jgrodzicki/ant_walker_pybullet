{
  "nbformat": 4,
  "nbformat_minor": 0,
  "metadata": {
    "kernelspec": {
      "display_name": "Python 3",
      "language": "python",
      "name": "python3"
    },
    "language_info": {
      "codemirror_mode": {
        "name": "ipython",
        "version": 3
      },
      "file_extension": ".py",
      "mimetype": "text/x-python",
      "name": "python",
      "nbconvert_exporter": "python",
      "pygments_lexer": "ipython3",
      "version": "3.7.3"
    },
    "colab": {
      "name": "train_cem.ipynb",
      "provenance": [],
      "toc_visible": true
    }
  },
  "cells": [
    {
      "cell_type": "code",
      "metadata": {
        "id": "URQNvKoroG2_",
        "colab_type": "code",
        "colab": {
          "base_uri": "https://localhost:8080/",
          "height": 326
        },
        "outputId": "d23da6d4-1326-432a-80c4-1dbc626f3903"
      },
      "source": [
        "!pip install pybullet==2.5.5\n",
        "\n",
        "%cd /usr/local/lib/python3.6/dist-packages\n",
        "!git clone https://github.com/benelot/pybullet-gym.git\n",
        "%cd pybullet-gym\n",
        "!pip install -e ."
      ],
      "execution_count": null,
      "outputs": [
        {
          "output_type": "stream",
          "text": [
            "Collecting pybullet==2.5.5\n",
            "  Using cached https://files.pythonhosted.org/packages/d4/6c/6b14ae6d1d8f10f16ea82c2c194394564b02c80b88b6e391470046968c7b/pybullet-2.5.5.tar.gz\n",
            "Building wheels for collected packages: pybullet\n",
            "  Building wheel for pybullet (setup.py) ... \u001b[?25l\u001b[?25hdone\n",
            "  Created wheel for pybullet: filename=pybullet-2.5.5-cp36-cp36m-linux_x86_64.whl size=71821347 sha256=792d427a96b1160c99d3d623817e458b3040f4290730b1e247835517b6b0d524\n",
            "  Stored in directory: /root/.cache/pip/wheels/1d/e4/cc/7b50d6689e1bc6ba07d2df04946a0eabc89deca7caed5f52d1\n",
            "Successfully built pybullet\n",
            "Installing collected packages: pybullet\n",
            "Successfully installed pybullet-2.5.5\n",
            "/usr/local/lib/python3.6/dist-packages\n",
            "fatal: destination path 'pybullet-gym' already exists and is not an empty directory.\n",
            "/usr/local/lib/python3.6/dist-packages/pybullet-gym\n",
            "Obtaining file:///usr/local/lib/python3.6/dist-packages/pybullet-gym\n",
            "Requirement already satisfied: pybullet>=1.7.8 in /usr/local/lib/python3.6/dist-packages (from pybulletgym==0.1) (2.5.5)\n",
            "Installing collected packages: pybulletgym\n",
            "  Running setup.py develop for pybulletgym\n",
            "Successfully installed pybulletgym\n"
          ],
          "name": "stdout"
        }
      ]
    },
    {
      "cell_type": "code",
      "metadata": {
        "id": "oeQdwx33n8V4",
        "colab_type": "code",
        "colab": {}
      },
      "source": [
        "import gym\n",
        "import pybulletgym\n",
        "from gym import logger as gymlogger\n",
        "from gym.wrappers import Monitor\n",
        "gymlogger.set_level(40) #error only\n",
        "\n",
        "import numpy as np\n",
        "from tqdm import trange\n",
        "import glob\n",
        "import io\n",
        "import base64\n",
        "from IPython.display import HTML\n",
        "\n",
        "import torch\n",
        "from torch import nn\n",
        "import torch.nn.functional as F\n",
        "from copy import deepcopy\n",
        "\n",
        "from tqdm import tqdm, trange\n",
        "import pandas as pd  # for recording progress\n",
        "import torch.optim as optim\n",
        "import pickle\n",
        "\n",
        "from IPython import display as ipythondisplay"
      ],
      "execution_count": null,
      "outputs": []
    },
    {
      "cell_type": "code",
      "metadata": {
        "id": "jEgy80AsrMx-",
        "colab_type": "code",
        "colab": {
          "base_uri": "https://localhost:8080/",
          "height": 122
        },
        "outputId": "bbe87ca6-c238-4ee7-a402-c540f3bc1cad"
      },
      "source": [
        "from google.colab import drive\n",
        "drive.mount('/content/drive')"
      ],
      "execution_count": null,
      "outputs": [
        {
          "output_type": "stream",
          "text": [
            "Go to this URL in a browser: https://accounts.google.com/o/oauth2/auth?client_id=947318989803-6bn6qk8qdgf4n4g3pfee6491hc0brc4i.apps.googleusercontent.com&redirect_uri=urn%3aietf%3awg%3aoauth%3a2.0%3aoob&response_type=code&scope=email%20https%3a%2f%2fwww.googleapis.com%2fauth%2fdocs.test%20https%3a%2f%2fwww.googleapis.com%2fauth%2fdrive%20https%3a%2f%2fwww.googleapis.com%2fauth%2fdrive.photos.readonly%20https%3a%2f%2fwww.googleapis.com%2fauth%2fpeopleapi.readonly\n",
            "\n",
            "Enter your authorization code:\n",
            "··········\n",
            "Mounted at /content/drive\n"
          ],
          "name": "stdout"
        }
      ]
    },
    {
      "cell_type": "code",
      "metadata": {
        "id": "A38mFSyupRkl",
        "colab_type": "code",
        "colab": {}
      },
      "source": [
        "CUDA = torch.cuda.is_available()\n",
        "\n",
        "def to_np(x):\n",
        "    return x.detach().cpu().numpy()\n",
        "\n",
        "def to_tensor(x, requires_grad=False):\n",
        "    x = torch.from_numpy(x)\n",
        "    if CUDA:\n",
        "        x = x.cuda()\n",
        "    \n",
        "    if requires_grad:\n",
        "        return x.clone().contiguous().detach().requires_grad_(True)\n",
        "    else:\n",
        "        return x.clone().contiguous().detach()\n",
        "\n",
        "    \n",
        "class Network(nn.Module):\n",
        "    \n",
        "    def __init__(self):\n",
        "        super(Network, self).__init__()\n",
        "        self.layers = nn.Sequential(\n",
        "            nn.Linear(111, 100),\n",
        "            nn.Tanh(),\n",
        "            nn.Linear(100, 8),\n",
        "            nn.Tanh()\n",
        "        )\n",
        "\n",
        "        \n",
        "    def forward(self, X):\n",
        "        X = X.view(X.size(0), -1)\n",
        "        return self.layers.forward(X)\n",
        "    \n",
        "    \n",
        "    def set_params(self, params):\n",
        "        cpt = 0\n",
        "        for param in self.parameters():\n",
        "            tmp = np.product(param.size())\n",
        "\n",
        "            if torch.cuda.is_available():\n",
        "                param.data.copy_(to_tensor(\n",
        "                    params[cpt:cpt + tmp]).view(param.size()).cuda())\n",
        "            else:\n",
        "                param.data.copy_(to_tensor(\n",
        "                    params[cpt:cpt + tmp]).view(param.size()))\n",
        "            cpt += tmp\n",
        "\n",
        "            \n",
        "    def get_params(self):\n",
        "        return deepcopy(np.hstack([to_np(v).flatten() for v in\n",
        "                                   self.parameters()]))"
      ],
      "execution_count": null,
      "outputs": []
    },
    {
      "cell_type": "code",
      "metadata": {
        "id": "mBQMP3SNpUYE",
        "colab_type": "code",
        "colab": {}
      },
      "source": [
        "class CEM:\n",
        "    \n",
        "    def __init__(self, env, no_params, max_steps, max_train_steps, max_eval_steps, sigma_st, sigma_end, tau, pop_size, elitist=None, batch_size=100):\n",
        "        self.env = env\n",
        "        self.max_steps = max_steps\n",
        "        self.max_train_steps = max_train_steps\n",
        "        self.max_eval_steps = max_eval_steps\n",
        "        self.sigma_st = sigma_st\n",
        "        self.sigma_end = sigma_end\n",
        "        self.tau = tau\n",
        "        self.pop_size = pop_size\n",
        "        self.elitist = elitist\n",
        "        self.batch_size = batch_size\n",
        "        \n",
        "        if self.elitist is None:\n",
        "            self.elitist = int(self.pop_size//2)\n",
        "        \n",
        "        self.no_params = no_params\n",
        "        \n",
        "        self.df = pd.DataFrame({'total_steps':[], 'min_eval': [], 'mean_eval': [], 'max_eval': [], 'mean_sigma': [], 'max_sigma': []})\n",
        "        \n",
        "    \n",
        "    def run(self, start=0):\n",
        "        actor = Network()\n",
        "        mu = np.ones(self.no_params)\n",
        "        sigma = self.sigma_st\n",
        "        epsilon = 2\n",
        "        \n",
        "        if start != 0:\n",
        "            epsilon = 0.1\n",
        "            params = pickle.load(open(f'drive/My Drive/project_evo/history/{start}.pkl', 'rb'))['params']\n",
        "            mu, sigma = params['mu'], params['sigma']\n",
        "        \n",
        "        replay_buffer = []\n",
        "        \n",
        "        total_steps = actor_steps = 0\n",
        "        \n",
        "        best, best_eval = None, -np.inf\n",
        "        \n",
        "        for total_steps in trange(start, self.max_steps, position=0, leave=True):\n",
        "            pop = self._draw_population(mu, sigma)\n",
        "\n",
        "            evals = np.zeros(self.pop_size)\n",
        "            \n",
        "            for i in range(self.pop_size):\n",
        "                actor.set_params(pop[i])\n",
        "                evals[i] = self._eval(actor)\n",
        "            \n",
        "            \n",
        "            evals = np.maximum(0, evals)\n",
        "            \n",
        "            mu, sigma = self._update_params(pop, evals, mu, sigma, epsilon)\n",
        "            epsilon = self.tau*epsilon + (1-self.tau)*(np.mean(self.sigma_end))\n",
        "            \n",
        "            if evals.max() > best_eval:\n",
        "                best, best_best = pop[np.argmax(evals)], evals.max()\n",
        "                \n",
        "            if total_steps % 5 == 0:\n",
        "                self.df = self.df.append({'total_steps': total_steps, 'min_eval': evals.min(), 'mean_eval': evals.mean(), 'max_eval': evals.max(), 'mean_sigma': sigma.mean(), 'max_sigma': sigma.max()}, ignore_index=True)\n",
        "            \n",
        "            if total_steps % 50 == 0:\n",
        "                to_write = {'params': {'mu': mu, 'sigma': sigma, 'epsilon': epsilon},\n",
        "                           'pop': pop,\n",
        "                           'best': best}\n",
        "                pickle.dump(to_write, open(f'drive/My Drive/project_evo/history/{total_steps}.pkl', 'w+b'), \n",
        "                            pickle.HIGHEST_PROTOCOL)\n",
        "\n",
        "                best, best_eval = None, -np.inf\n",
        "            \n",
        "        return best\n",
        "                \n",
        "    \n",
        "    def _draw_population(self, mu, sigma):\n",
        "        pop = np.zeros((self.pop_size, self.no_params))\n",
        "        for i in range(self.pop_size):\n",
        "            pop[i] = np.random.normal(mu, np.sqrt(sigma))\n",
        "        return pop\n",
        "    \n",
        "    \n",
        "    def _eval(self, actor):\n",
        "        '''\n",
        "        evals actor by restaring env and doing max_eval_steps\n",
        "        \n",
        "        returns mean reward gained during eval\n",
        "        '''\n",
        "        observation = self.env.reset()\n",
        "        observation = to_tensor(observation.reshape(1, -1).astype(np.float32))\n",
        "        total_reward = 0\n",
        "\n",
        "        for _ in range(self.max_eval_steps):\n",
        "            action = actor(observation)\n",
        "            action = to_np(action)[0]\n",
        "\n",
        "            observation, reward, done, info = self.env.step(action)\n",
        "            observation = to_tensor(observation.reshape(1, -1).astype(np.float32))\n",
        "            \n",
        "            if done:\n",
        "                break\n",
        "            \n",
        "            total_reward += reward\n",
        "        \n",
        "        return total_reward/self.max_eval_steps\n",
        "    \n",
        "    \n",
        "    def _update_params(self, pop, evals, old_mu, old_sigma, epsilon):\n",
        "        lambdas = np.array([np.log(1+self.elitist)/(1+i) for i in range(self.elitist)]).reshape(-1, 1)\n",
        "        lambdas /= (lambdas.sum()+1e-10)\n",
        "#         lambdas = np.full(self.elitist, 1/self.elitist)\n",
        "        idxs = np.argsort(evals)[::-1][:self.elitist]\n",
        "        z = pop[idxs]\n",
        "        \n",
        "        mu = np.sum([lambdas[i]*z[i] for i in range(self.elitist)], axis=0)\n",
        "\n",
        "        sigma = np.sum([lambdas[i]*(z[i] - old_mu)**2 for i in range(self.elitist)], axis=0)\n",
        "        sigma += epsilon\n",
        "        \n",
        "        sigma = np.clip(sigma, 0.4, 20)\n",
        "        \n",
        "        return mu, sigma\n",
        "    \n",
        "    \n",
        "    def _loss_func(self, reward):\n",
        "        return 1 / (reward+1e-10)"
      ],
      "execution_count": null,
      "outputs": []
    },
    {
      "cell_type": "code",
      "metadata": {
        "id": "PKO38x6bn8W0",
        "colab_type": "code",
        "colab": {
          "base_uri": "https://localhost:8080/",
          "height": 34
        },
        "outputId": "69b52aab-c3c7-4f1d-a476-6ebb40c729ba"
      },
      "source": [
        "n = Network()\n",
        "n.get_params().shape"
      ],
      "execution_count": null,
      "outputs": [
        {
          "output_type": "execute_result",
          "data": {
            "text/plain": [
              "(12008,)"
            ]
          },
          "metadata": {
            "tags": []
          },
          "execution_count": 3
        }
      ]
    },
    {
      "cell_type": "code",
      "metadata": {
        "id": "QzeW5vFqn8W4",
        "colab_type": "code",
        "colab": {
          "base_uri": "https://localhost:8080/",
          "height": 51
        },
        "outputId": "7985bad7-a6fc-4b29-dae3-98603269202a"
      },
      "source": [
        "cem = CEM(env=gym.make('AntMuJoCoEnv-v0'), no_params=12008, max_steps=3001, max_eval_steps=250,\n",
        "          max_train_steps=25, sigma_st=np.full(12008, 3),\n",
        "          sigma_end=np.full(12008, 1e-4), tau=0.99, pop_size=100)"
      ],
      "execution_count": null,
      "outputs": [
        {
          "output_type": "stream",
          "text": [
            "current_dir=/usr/local/lib/python3.6/dist-packages/pybullet_envs/bullet\n",
            "WalkerBase::__init__\n"
          ],
          "name": "stdout"
        }
      ]
    },
    {
      "cell_type": "code",
      "metadata": {
        "id": "yT5zy-WKn8W5",
        "colab_type": "code",
        "colab": {
          "base_uri": "https://localhost:8080/",
          "height": 51
        },
        "outputId": "b9b188e8-daf0-4abd-c584-16f4a92ee9c0"
      },
      "source": [
        "best = cem.run(2600)"
      ],
      "execution_count": null,
      "outputs": [
        {
          "output_type": "stream",
          "text": [
            "\r  0%|          | 0/401 [00:00<?, ?it/s]"
          ],
          "name": "stderr"
        },
        {
          "output_type": "stream",
          "text": [
            "options= \n"
          ],
          "name": "stdout"
        },
        {
          "output_type": "stream",
          "text": [
            "100%|██████████| 401/401 [4:34:03<00:00, 41.01s/it]\n"
          ],
          "name": "stderr"
        }
      ]
    },
    {
      "cell_type": "code",
      "metadata": {
        "id": "gaNruT5qn8W7",
        "colab_type": "code",
        "colab": {},
        "outputId": "a0cb0bdc-575d-4143-e7f7-41a522c2db01"
      },
      "source": [
        "best"
      ],
      "execution_count": null,
      "outputs": [
        {
          "output_type": "execute_result",
          "data": {
            "text/plain": [
              "array([ -7.88465607, -12.89635667,  35.06605371, ...,   6.45113151,\n",
              "         9.11775116,  18.59347907])"
            ]
          },
          "metadata": {
            "tags": []
          },
          "execution_count": 14
        }
      ]
    },
    {
      "cell_type": "code",
      "metadata": {
        "id": "-gthOkp2n8XD",
        "colab_type": "code",
        "colab": {},
        "outputId": "c4a7fdd5-e9f5-47c1-e967-21b16ba0c096"
      },
      "source": [
        "import matplotlib.pyplot as plt\n",
        "plt.plot(np.arange(len(cem.df))*5, cem.df['mean_eval'], c='b')\n",
        "plt.plot(np.arange(len(cem.df))*5, cem.df['min_eval'], c='r')\n",
        "plt.plot(np.arange(len(cem.df))*5, cem.df['max_eval'], c='g')"
      ],
      "execution_count": null,
      "outputs": [
        {
          "output_type": "execute_result",
          "data": {
            "text/plain": [
              "[<matplotlib.lines.Line2D at 0x126363128>]"
            ]
          },
          "metadata": {
            "tags": []
          },
          "execution_count": 12
        },
        {
          "output_type": "display_data",
          "data": {
            "image/png": "[encoded data removed]",
            "text/plain": [
              "<Figure size 432x288 with 1 Axes>"
            ]
          },
          "metadata": {
            "tags": [],
            "needs_background": "light"
          }
        }
      ]
    },
    {
      "cell_type": "code",
      "metadata": {
        "id": "3DyfZMHan8XF",
        "colab_type": "code",
        "colab": {},
        "outputId": "a84c90ae-126c-411c-9eef-f4c3ea260ada"
      },
      "source": [
        "plt.plot(np.arange(len(cem.df))*5, cem.df['mean_sigma'], c='b')\n",
        "plt.plot(np.arange(len(cem.df))*5, cem.df['max_sigma'], c='r')"
      ],
      "execution_count": null,
      "outputs": [
        {
          "output_type": "execute_result",
          "data": {
            "text/plain": [
              "[<matplotlib.lines.Line2D at 0x12477fd68>]"
            ]
          },
          "metadata": {
            "tags": []
          },
          "execution_count": 13
        },
        {
          "output_type": "display_data",
          "data": {
            "image/png": "[encoded data removed]",
            "text/plain": [
              "<Figure size 432x288 with 1 Axes>"
            ]
          },
          "metadata": {
            "tags": [],
            "needs_background": "light"
          }
        }
      ]
    },
    {
      "cell_type": "code",
      "metadata": {
        "id": "6pKrA8eHn8XG",
        "colab_type": "code",
        "colab": {}
      },
      "source": [
        ""
      ],
      "execution_count": null,
      "outputs": []
    }
  ]
}