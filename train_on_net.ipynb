{
  "nbformat": 4,
  "nbformat_minor": 0,
  "metadata": {
    "colab": {
      "name": "train_on_net.ipynb",
      "provenance": [],
      "collapsed_sections": [],
      "toc_visible": true
    },
    "kernelspec": {
      "name": "python3",
      "display_name": "Python 3"
    },
    "accelerator": "GPU"
  },
  "cells": [
    {
      "cell_type": "markdown",
      "metadata": {
        "id": "NT49-8VXScAM",
        "colab_type": "text"
      },
      "source": [
        "## Use neural net to predict reward from observation and action to speed up the learning"
      ]
    },
    {
      "cell_type": "code",
      "metadata": {
        "id": "WrDOFKGbStYU",
        "colab_type": "code",
        "colab": {
          "base_uri": "https://localhost:8080/",
          "height": 241
        },
        "outputId": "fca383d4-bf9d-4639-aac0-dea36f476df0"
      },
      "source": [
        "!pip install pybullet==2.5.5\n",
        "\n",
        "%cd /usr/local/lib/python3.6/dist-packages\n",
        "!git clone https://github.com/benelot/pybullet-gym.git\n",
        "%cd pybullet-gym\n",
        "!pip install -e .\n",
        "%cd /content"
      ],
      "execution_count": 1,
      "outputs": [
        {
          "output_type": "stream",
          "text": [
            "Requirement already satisfied: pybullet==2.5.5 in /usr/local/lib/python3.6/dist-packages (2.5.5)\n",
            "/usr/local/lib/python3.6/dist-packages\n",
            "fatal: destination path 'pybullet-gym' already exists and is not an empty directory.\n",
            "/usr/local/lib/python3.6/dist-packages/pybullet-gym\n",
            "Obtaining file:///usr/local/lib/python3.6/dist-packages/pybullet-gym\n",
            "Requirement already satisfied: pybullet>=1.7.8 in /usr/local/lib/python3.6/dist-packages (from pybulletgym==0.1) (2.5.5)\n",
            "Installing collected packages: pybulletgym\n",
            "  Found existing installation: pybulletgym 0.1\n",
            "    Can't uninstall 'pybulletgym'. No files were found to uninstall.\n",
            "  Running setup.py develop for pybulletgym\n",
            "Successfully installed pybulletgym\n",
            "/content\n"
          ],
          "name": "stdout"
        }
      ]
    },
    {
      "cell_type": "code",
      "metadata": {
        "id": "Ha5JP-z9Smrs",
        "colab_type": "code",
        "colab": {}
      },
      "source": [
        "import numpy as np\n",
        "import torch\n",
        "from torch import nn\n",
        "import torch.nn.functional as F\n",
        "from copy import deepcopy\n",
        "\n",
        "import gym\n",
        "import pybulletgym\n",
        "from gym import logger as gymlogger\n",
        "from gym.wrappers import Monitor\n",
        "gymlogger.set_level(40) #error only\n",
        "\n",
        "import numpy as np\n",
        "from tqdm import trange\n",
        "import glob\n",
        "import io\n",
        "import base64\n",
        "from IPython.display import HTML\n",
        "\n",
        "from IPython import display as ipythondisplay\n",
        "import pickle\n",
        "import pandas as pd"
      ],
      "execution_count": 1,
      "outputs": []
    },
    {
      "cell_type": "code",
      "metadata": {
        "id": "NCiIhRUqcm8L",
        "colab_type": "code",
        "colab": {
          "base_uri": "https://localhost:8080/",
          "height": 34
        },
        "outputId": "63abb7c7-f224-4c30-d8a8-436adfd4c374"
      },
      "source": [
        "device = 'cuda' if torch.cuda.is_available() else 'cpu'\n",
        "\n",
        "def to_np(x):\n",
        "    return x.detach().cpu().numpy()\n",
        "\n",
        "def to_tensor(x, requires_grad=False):\n",
        "    x = torch.from_numpy(x)\n",
        "    \n",
        "    if requires_grad:\n",
        "        return x.clone().contiguous().detach().requires_grad_(True).to(device)\n",
        "    else:\n",
        "        return x.clone().contiguous().detach().to(device)\n",
        "\n",
        "device"
      ],
      "execution_count": 2,
      "outputs": [
        {
          "output_type": "execute_result",
          "data": {
            "text/plain": [
              "'cuda'"
            ]
          },
          "metadata": {
            "tags": []
          },
          "execution_count": 2
        }
      ]
    },
    {
      "cell_type": "code",
      "metadata": {
        "id": "enkN31Jgbn1J",
        "colab_type": "code",
        "colab": {}
      },
      "source": [
        "class Network(nn.Module):\n",
        "    def __init__(self):\n",
        "        super(Network, self).__init__()\n",
        "        self.layers = nn.Sequential(\n",
        "            nn.Linear(119, 500),\n",
        "            nn.Tanh(),\n",
        "            nn.Linear(500, 500),\n",
        "            nn.Tanh(),\n",
        "            nn.Linear(500, 500),\n",
        "            nn.Tanh(),\n",
        "            nn.Linear(500, 1))\n",
        "        self.loss = nn.MSELoss()\n",
        "        \n",
        "        \n",
        "    def forward(self, X):\n",
        "        X = X.view(X.size(0), -1)\n",
        "        return self.layers.forward(X)\n",
        "        \n",
        "\n",
        "class AgentNetwork(nn.Module):\n",
        "    \n",
        "    def __init__(self):\n",
        "        super(AgentNetwork, self).__init__()\n",
        "        self.layers = nn.Sequential(\n",
        "            nn.Linear(111, 100),\n",
        "            nn.Tanh(),\n",
        "            nn.Linear(100, 8),\n",
        "            nn.Tanh()\n",
        "        )\n",
        "\n",
        "        \n",
        "    def forward(self, X):\n",
        "        X = X.view(X.size(0), -1)\n",
        "        return self.layers.forward(X)\n",
        "    \n",
        "    \n",
        "    def set_params(self, params):\n",
        "        cpt = 0\n",
        "        for param in self.parameters():\n",
        "            tmp = np.product(param.size())\n",
        "\n",
        "            if torch.cuda.is_available():\n",
        "                param.data.copy_(to_tensor(\n",
        "                    params[cpt:cpt + tmp]).view(param.size()).cuda())\n",
        "            else:\n",
        "                param.data.copy_(to_tensor(\n",
        "                    params[cpt:cpt + tmp]).view(param.size()))\n",
        "            cpt += tmp\n",
        "\n",
        "            \n",
        "    def get_params(self):\n",
        "        return deepcopy(np.hstack([to_np(v).flatten() for v in\n",
        "                                   self.parameters()]))"
      ],
      "execution_count": 3,
      "outputs": []
    },
    {
      "cell_type": "code",
      "metadata": {
        "id": "ZQqvIXiaSXrs",
        "colab_type": "code",
        "colab": {}
      },
      "source": [
        "class CEM:\n",
        "    \n",
        "    def __init__(self, net, no_params, max_steps, max_eval_steps, sigma_st, sigma_end, tau, pop_size, elitist=None):\n",
        "        self.net = net\n",
        "        self.max_steps = max_steps\n",
        "        self.max_eval_steps = max_eval_steps\n",
        "        self.sigma_st = sigma_st\n",
        "        self.sigma_end = sigma_end\n",
        "        self.tau = tau\n",
        "        self.pop_size = pop_size\n",
        "        self.elitist = elitist\n",
        "        \n",
        "        if self.elitist is None:\n",
        "            self.elitist = int(self.pop_size//2)\n",
        "        \n",
        "        self.no_params = no_params\n",
        "        \n",
        "        self.df = pd.DataFrame({'total_steps':[], 'min_eval': [], 'mean_eval': [], 'max_eval': [], 'mean_sigma': [], 'max_sigma': []})\n",
        "        \n",
        "    \n",
        "    def run(self):\n",
        "        raise NotImplementedError\n",
        "                \n",
        "    \n",
        "    def _draw_population(self, mu, sigma):\n",
        "        pop = np.zeros((self.pop_size, self.no_params))\n",
        "        for i in range(self.pop_size):\n",
        "            pop[i] = np.random.normal(mu, np.sqrt(sigma))\n",
        "        return pop\n",
        "\n",
        "    \n",
        "    def _eval(self, actor, obs):\n",
        "        '''\n",
        "        evals actor by generating sample from given observation distribution and use nn to predict reward based on action\n",
        "        \n",
        "        returns mean reward gained during eval\n",
        "        '''\n",
        "        with torch.no_grad():\n",
        "            actions = actor(obs)\n",
        "            obs_actions = torch.cat((obs, actions), 1)\n",
        "            reward = self.net(obs_actions)\n",
        "        return to_np(reward).mean()\n",
        "        \n",
        "    \n",
        "    \n",
        "    def _update_params(self, pop, evals, old_mu, old_sigma, epsilon):\n",
        "        lambdas = np.array([np.log(1+self.elitist)/(1+i) for i in range(self.elitist)]).reshape(-1, 1)\n",
        "        lambdas /= (lambdas.sum()+1e-10)\n",
        "#         lambdas = np.full(self.elitist, 1/self.elitist)\n",
        "        idxs = np.argsort(evals)[::-1][:self.elitist]\n",
        "        z = pop[idxs]\n",
        "        \n",
        "        mu = np.sum([lambdas[i]*z[i] for i in range(self.elitist)], axis=0)\n",
        "\n",
        "        sigma = np.sum([lambdas[i]*(z[i] - old_mu)**2 for i in range(self.elitist)], axis=0)\n",
        "        sigma += epsilon\n",
        "        \n",
        "        sigma = np.clip(sigma, 0.4, 20)\n",
        "        \n",
        "        return mu, sigma"
      ],
      "execution_count": 4,
      "outputs": []
    },
    {
      "cell_type": "code",
      "metadata": {
        "id": "JmNKanTLZ9nj",
        "colab_type": "code",
        "colab": {}
      },
      "source": [
        "class CEM_data(CEM):\n",
        "    def __init__(self, net, no_params, max_steps, max_eval_steps, sigma_st, \n",
        "                 sigma_end, tau, pop_size):\n",
        "        super(CEM_data, self).__init__(net, no_params, max_steps, max_eval_steps, sigma_st, sigma_end, tau, pop_size)\n",
        "\n",
        "    def run(self):\n",
        "        actor = AgentNetwork().to(device)\n",
        "        \n",
        "        mu = np.ones(self.no_params)\n",
        "        sigma = self.sigma_st\n",
        "        epsilon = 4\n",
        "        \n",
        "        total_steps = actor_steps = 0\n",
        "        \n",
        "        best, best_eval = None, -np.inf\n",
        "        \n",
        "        for total_steps in trange(self.max_steps, position=0, leave=True):\n",
        "            if total_steps % 10 == 0:\n",
        "                idx = (total_steps//10) % 10\n",
        "                data = pickle.load(open(f'drive/My Drive/project_evo/data/b{idx}.pkl', 'rb'))['X'][:, :111].to(device)\n",
        "            pop = self._draw_population(mu, sigma)\n",
        "\n",
        "            evals = np.zeros(self.pop_size)\n",
        "            for i in range(self.pop_size):\n",
        "                actor.set_params(pop[i])\n",
        "                idxs = np.random.choice(len(data), self.max_eval_steps, replace=False)\n",
        "                evals[i] = self._eval(actor, data[idxs])\n",
        "            \n",
        "            evals = np.maximum(0, evals)\n",
        "\n",
        "            \n",
        "            mu, sigma = self._update_params(pop, evals, mu, sigma, epsilon)\n",
        "            epsilon = self.tau*epsilon + (1-self.tau)*(np.mean(self.sigma_end))\n",
        "            \n",
        "\n",
        "            if evals.max() > best_eval:\n",
        "                best, best_eval = pop[np.argmax(evals)], evals.max()\n",
        "                \n",
        "            if total_steps % 5 == 0:\n",
        "                self.df = self.df.append({'total_steps': total_steps, 'min_eval': evals.min(), 'mean_eval': evals.mean(), 'max_eval': evals.max(), 'mean_sigma': sigma.mean(), 'max_sigma': sigma.max()}, ignore_index=True)\n",
        "            \n",
        "            if total_steps % 200 == 0:\n",
        "                to_write = {'params': {'mu': mu, 'sigma': sigma, 'epsilon': epsilon},\n",
        "                           'pop': pop,\n",
        "                           'best': best}\n",
        "                pickle.dump(to_write, open(f'drive/My Drive/project_evo/history/from_data/{total_steps}.pkl', 'w+b'), \n",
        "                            pickle.HIGHEST_PROTOCOL)\n",
        "                best, best_eval = None, -np.inf\n",
        "            \n",
        "        return best\n",
        "\n",
        "\n",
        "class CEM_gen(CEM):\n",
        "    \n",
        "    def __init__(self, net, obs_mean, obs_std, no_params, max_steps, max_eval_steps, sigma_st, \n",
        "                 sigma_end, tau, pop_size):\n",
        "        super(CEM_gen, self).__init__(net, no_params, max_steps, max_eval_steps, sigma_st, sigma_end, tau, pop_size)\n",
        "        self.obs_mean = obs_mean\n",
        "        self.obs_std = obs_std\n",
        "\n",
        "    def run(self):\n",
        "        actor = AgentNetwork().to(device)\n",
        "        \n",
        "        mu = np.ones(self.no_params)\n",
        "        sigma = self.sigma_st\n",
        "        epsilon = 4\n",
        "        \n",
        "        total_steps = actor_steps = 0\n",
        "        \n",
        "        best, best_eval = None, -np.inf\n",
        "        \n",
        "        for total_steps in trange(self.max_steps, position=0, leave=True):\n",
        "            pop = self._draw_population(mu, sigma)\n",
        "\n",
        "            evals = np.zeros(self.pop_size)\n",
        "            obs = torch.Tensor([np.random.normal(self.obs_mean, self.obs_std) for _ in range(self.max_eval_steps)]).to(device)\n",
        "            for i in range(self.pop_size):\n",
        "                actor.set_params(pop[i])\n",
        "                evals[i] = self._eval(actor, obs)\n",
        "            \n",
        "            evals = np.maximum(0, evals)\n",
        "\n",
        "\n",
        "            mu, sigma = self._update_params(pop, evals, mu, sigma, epsilon)\n",
        "            epsilon = self.tau*epsilon + (1-self.tau)*(np.mean(self.sigma_end))\n",
        "            \n",
        "\n",
        "            if evals.max() > best_eval:\n",
        "                best, best_eval = pop[np.argmax(evals)], evals.max()\n",
        "                \n",
        "            if total_steps % 5 == 0:\n",
        "                self.df = self.df.append({'total_steps': total_steps, 'min_eval': evals.min(), 'mean_eval': evals.mean(), 'max_eval': evals.max(), 'mean_sigma': sigma.mean(), 'max_sigma': sigma.max()}, ignore_index=True)\n",
        "            \n",
        "            if total_steps % 200 == 0:\n",
        "                to_write = {'params': {'mu': mu, 'sigma': sigma, 'epsilon': epsilon},\n",
        "                           'pop': pop,\n",
        "                           'best': best}\n",
        "                pickle.dump(to_write, open(f'drive/My Drive/project_evo/history/from_gen/{total_steps}.pkl', 'w+b'), \n",
        "                            pickle.HIGHEST_PROTOCOL)\n",
        "                # best, best_eval = None, -np.inf\n",
        "            \n",
        "        return best"
      ],
      "execution_count": 5,
      "outputs": []
    },
    {
      "cell_type": "markdown",
      "metadata": {
        "id": "vy2F8d79cF7E",
        "colab_type": "text"
      },
      "source": [
        "### Find distribution of observations to generate new similar to them"
      ]
    },
    {
      "cell_type": "code",
      "metadata": {
        "id": "vtE79sX3cM-n",
        "colab_type": "code",
        "colab": {
          "base_uri": "https://localhost:8080/",
          "height": 34
        },
        "outputId": "9749f553-11ff-4e12-bb80-bdc208bf5460"
      },
      "source": [
        "means, stds = [], []\n",
        "for b in trange(10, position=0, leave=True):\n",
        "    d = pickle.load(open(f'drive/My Drive/project_evo/data/b{b}.pkl', 'rb'))\n",
        "    X = to_np(d['X'])[:, :111]\n",
        "    means.append(X.mean(axis=0))\n",
        "    stds.append(X.std(axis=0))"
      ],
      "execution_count": 7,
      "outputs": [
        {
          "output_type": "stream",
          "text": [
            "100%|██████████| 10/10 [01:15<00:00,  7.59s/it]\n"
          ],
          "name": "stderr"
        }
      ]
    },
    {
      "cell_type": "code",
      "metadata": {
        "id": "hfRH_Rs4fS0q",
        "colab_type": "code",
        "colab": {}
      },
      "source": [
        "obs_mean = np.mean(means, axis=0)\n",
        "obs_std = np.mean(stds, axis=0)"
      ],
      "execution_count": 8,
      "outputs": []
    },
    {
      "cell_type": "code",
      "metadata": {
        "id": "KpUETV8Sga7v",
        "colab_type": "code",
        "colab": {
          "base_uri": "https://localhost:8080/",
          "height": 34
        },
        "outputId": "da1ec916-8166-4019-9194-67eaae0d8732"
      },
      "source": [
        "obs = torch.Tensor([np.random.normal(obs_mean, obs_std).astype(np.float32) for _ in range(50)])\n",
        "actor = AgentNetwork()\n",
        "actions = actor(obs)\n",
        "torch.cat((obs, actions), 1).size()"
      ],
      "execution_count": 9,
      "outputs": [
        {
          "output_type": "execute_result",
          "data": {
            "text/plain": [
              "torch.Size([50, 119])"
            ]
          },
          "metadata": {
            "tags": []
          },
          "execution_count": 9
        }
      ]
    },
    {
      "cell_type": "code",
      "metadata": {
        "id": "cSPgK7e0iXrI",
        "colab_type": "code",
        "colab": {}
      },
      "source": [
        "net = pickle.load(open('drive/My Drive/project_evo/reward_pred/net.pkl', 'rb')).to(device)"
      ],
      "execution_count": 7,
      "outputs": []
    },
    {
      "cell_type": "code",
      "metadata": {
        "id": "Q6bzK0Snis2k",
        "colab_type": "code",
        "colab": {}
      },
      "source": [
        "cem_gen = CEM_gen(net, obs_mean, obs_std, no_params=12008, max_steps=10000, max_eval_steps=1000, \n",
        "          sigma_st=np.full(12008, 2), sigma_end=np.full(12008, 1e-5), tau=0.99, pop_size=250)"
      ],
      "execution_count": 14,
      "outputs": []
    },
    {
      "cell_type": "code",
      "metadata": {
        "id": "2RAzNuwNlGVL",
        "colab_type": "code",
        "colab": {
          "base_uri": "https://localhost:8080/",
          "height": 34
        },
        "outputId": "3e27752f-f2e4-4355-9a6e-956af76b9147"
      },
      "source": [
        "best = cem_gen.run()"
      ],
      "execution_count": 15,
      "outputs": [
        {
          "output_type": "stream",
          "text": [
            "100%|██████████| 10000/10000 [1:26:41<00:00,  1.92it/s]\n"
          ],
          "name": "stderr"
        }
      ]
    },
    {
      "cell_type": "code",
      "metadata": {
        "id": "NtRTZtq3nthR",
        "colab_type": "code",
        "colab": {}
      },
      "source": [
        "pickle.dump(best, open('drive/My Drive/project_evo/history/from_gen/best.pkl', 'w+b'), pickle.HIGHEST_PROTOCOL)"
      ],
      "execution_count": 16,
      "outputs": []
    },
    {
      "cell_type": "code",
      "metadata": {
        "id": "DUplV9Jv1vor",
        "colab_type": "code",
        "colab": {
          "base_uri": "https://localhost:8080/",
          "height": 71
        },
        "outputId": "49155e71-d9c7-445d-e823-a167ddd42af6"
      },
      "source": [
        "pickle.dump(cem_gen, open('drive/My Drive/project_evo/history/from_gen/cem.pkl', 'w+b'), pickle.HIGHEST_PROTOCOL)"
      ],
      "execution_count": 17,
      "outputs": [
        {
          "output_type": "stream",
          "text": [
            "/usr/local/lib/python3.6/dist-packages/torch/storage.py:34: FutureWarning: pickle support for Storage will be removed in 1.5. Use `torch.save` instead\n",
            "  warnings.warn(\"pickle support for Storage will be removed in 1.5. Use `torch.save` instead\", FutureWarning)\n"
          ],
          "name": "stderr"
        }
      ]
    },
    {
      "cell_type": "code",
      "metadata": {
        "id": "LD8F6L5F2B8a",
        "colab_type": "code",
        "colab": {}
      },
      "source": [
        "cem_gen = pickle.load(open('drive/My Drive/project_evo/history/from_gen/cem.pkl', 'rb'))"
      ],
      "execution_count": 6,
      "outputs": []
    },
    {
      "cell_type": "code",
      "metadata": {
        "id": "P3IYZssWzp9o",
        "colab_type": "code",
        "colab": {
          "base_uri": "https://localhost:8080/",
          "height": 281
        },
        "outputId": "1c068cad-2aed-4106-a46d-379f762fecca"
      },
      "source": [
        "import matplotlib.pyplot as plt\n",
        "plt.plot(np.arange(len(cem_gen.df))[::10]*5, cem_gen.df['mean_eval'][::10], c='b')\n",
        "plt.plot(np.arange(len(cem_gen.df))[::10]*5, cem_gen.df['min_eval'][::10], c='r')\n",
        "plt.plot(np.arange(len(cem_gen.df))[::10]*5, cem_gen.df['max_eval'][::10], c='g')\n",
        "plt.title('Evals')\n",
        "plt.show()"
      ],
      "execution_count": 10,
      "outputs": [
        {
          "output_type": "display_data",
          "data": {
            "image/png": "[encoded data removed]",
            "text/plain": [
              "<Figure size 432x288 with 1 Axes>"
            ]
          },
          "metadata": {
            "tags": [],
            "needs_background": "light"
          }
        }
      ]
    },
    {
      "cell_type": "markdown",
      "metadata": {
        "id": "wciEH--2bZcP",
        "colab_type": "text"
      },
      "source": [
        "### Use real collected data to train"
      ]
    },
    {
      "cell_type": "code",
      "metadata": {
        "id": "5qViGjywbgRj",
        "colab_type": "code",
        "colab": {}
      },
      "source": [
        "cem_data = CEM_data(net, no_params=12008, max_steps=5000, max_eval_steps=1000, \n",
        "          sigma_st=np.full(12008, 2), sigma_end=np.full(12008, 1e-5), tau=0.99, pop_size=250)"
      ],
      "execution_count": 10,
      "outputs": []
    },
    {
      "cell_type": "code",
      "metadata": {
        "id": "RMsYmnVibzmp",
        "colab_type": "code",
        "colab": {
          "base_uri": "https://localhost:8080/",
          "height": 34
        },
        "outputId": "cf74505a-f990-4088-b4e8-12a67d88b8c6"
      },
      "source": [
        "best = cem_data.run()"
      ],
      "execution_count": 11,
      "outputs": [
        {
          "output_type": "stream",
          "text": [
            "100%|██████████| 5000/5000 [2:49:35<00:00,  2.04s/it]\n"
          ],
          "name": "stderr"
        }
      ]
    },
    {
      "cell_type": "code",
      "metadata": {
        "id": "QZjVG3-he4_N",
        "colab_type": "code",
        "colab": {
          "base_uri": "https://localhost:8080/",
          "height": 71
        },
        "outputId": "d139ce56-ae5c-49d1-cd2b-638e52478078"
      },
      "source": [
        "pickle.dump(best, open('drive/My Drive/project_evo/history/from_data/best.pkl', 'w+b'), pickle.HIGHEST_PROTOCOL)\n",
        "pickle.dump(cem_data, open('drive/My Drive/project_evo/history/from_data/cem.pkl', 'w+b'), pickle.HIGHEST_PROTOCOL)"
      ],
      "execution_count": 12,
      "outputs": [
        {
          "output_type": "stream",
          "text": [
            "/usr/local/lib/python3.6/dist-packages/torch/storage.py:34: FutureWarning: pickle support for Storage will be removed in 1.5. Use `torch.save` instead\n",
            "  warnings.warn(\"pickle support for Storage will be removed in 1.5. Use `torch.save` instead\", FutureWarning)\n"
          ],
          "name": "stderr"
        }
      ]
    },
    {
      "cell_type": "code",
      "metadata": {
        "id": "k7jKfjwkOqWt",
        "colab_type": "code",
        "colab": {}
      },
      "source": [
        "cem_data = pickle.load(open('drive/My Drive/project_evo/history/from_data/cem.pkl', 'rb'))"
      ],
      "execution_count": 11,
      "outputs": []
    },
    {
      "cell_type": "code",
      "metadata": {
        "id": "p83HcpzUSEQg",
        "colab_type": "code",
        "colab": {
          "base_uri": "https://localhost:8080/",
          "height": 282
        },
        "outputId": "bbfa10ef-bcf5-4128-8113-c8edafa5bf8a"
      },
      "source": [
        "plt.plot(np.arange(len(cem_data.df))[::10]*5, cem_data.df['mean_eval'][::10], c='b')\n",
        "plt.plot(np.arange(len(cem_data.df))[::10]*5, cem_data.df['min_eval'][::10], c='r')\n",
        "plt.plot(np.arange(len(cem_data.df))[::10]*5, cem_data.df['max_eval'][::10], c='g')"
      ],
      "execution_count": 12,
      "outputs": [
        {
          "output_type": "execute_result",
          "data": {
            "text/plain": [
              "[<matplotlib.lines.Line2D at 0x7f8f20073d68>]"
            ]
          },
          "metadata": {
            "tags": []
          },
          "execution_count": 12
        },
        {
          "output_type": "display_data",
          "data": {
            "image/png": "[encoded data removed]",
            "text/plain": [
              "<Figure size 432x288 with 1 Axes>"
            ]
          },
          "metadata": {
            "tags": [],
            "needs_background": "light"
          }
        }
      ]
    },
    {
      "cell_type": "code",
      "metadata": {
        "id": "tjvfYNb91wDo",
        "colab_type": "code",
        "colab": {}
      },
      "source": [
        ""
      ],
      "execution_count": null,
      "outputs": []
    }
  ]
}