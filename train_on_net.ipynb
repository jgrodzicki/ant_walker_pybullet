{
  "nbformat": 4,
  "nbformat_minor": 0,
  "metadata": {
    "colab": {
      "name": "train_on_net.ipynb",
      "provenance": [],
      "toc_visible": true
    },
    "kernelspec": {
      "name": "python3",
      "display_name": "Python 3"
    }
  },
  "cells": [
    {
      "cell_type": "markdown",
      "metadata": {
        "id": "NT49-8VXScAM",
        "colab_type": "text"
      },
      "source": [
        "## Use neural net to predict reward from observation and action to speed up the learning"
      ]
    },
    {
      "cell_type": "code",
      "metadata": {
        "id": "WrDOFKGbStYU",
        "colab_type": "code",
        "outputId": "9687e7ea-e615-40e7-b700-18de1c86d967",
        "colab": {
          "base_uri": "https://localhost:8080/",
          "height": 445
        }
      },
      "source": [
        "!pip install pybullet==2.5.5\n",
        "\n",
        "%cd /usr/local/lib/python3.6/dist-packages\n",
        "!git clone https://github.com/benelot/pybullet-gym.git\n",
        "%cd pybullet-gym\n",
        "!pip install -e .\n",
        "%cd\n",
        "%cd ../content"
      ],
      "execution_count": 0,
      "outputs": [
        {
          "output_type": "stream",
          "text": [
            "Collecting pybullet==2.5.5\n",
            "\u001b[?25l  Downloading https://files.pythonhosted.org/packages/d4/6c/6b14ae6d1d8f10f16ea82c2c194394564b02c80b88b6e391470046968c7b/pybullet-2.5.5.tar.gz (60.4MB)\n",
            "\u001b[K     |████████████████████████████████| 60.4MB 64kB/s \n",
            "\u001b[?25hBuilding wheels for collected packages: pybullet\n",
            "  Building wheel for pybullet (setup.py) ... \u001b[?25l\u001b[?25hdone\n",
            "  Created wheel for pybullet: filename=pybullet-2.5.5-cp36-cp36m-linux_x86_64.whl size=71822399 sha256=001bbd44853b3e03acf1a1af45ab14c990eb7a583075136cb2009b7261e20dfa\n",
            "  Stored in directory: /root/.cache/pip/wheels/1d/e4/cc/7b50d6689e1bc6ba07d2df04946a0eabc89deca7caed5f52d1\n",
            "Successfully built pybullet\n",
            "Installing collected packages: pybullet\n",
            "Successfully installed pybullet-2.5.5\n",
            "/usr/local/lib/python3.6/dist-packages\n",
            "Cloning into 'pybullet-gym'...\n",
            "remote: Enumerating objects: 735, done.\u001b[K\n",
            "remote: Total 735 (delta 0), reused 0 (delta 0), pack-reused 735\u001b[K\n",
            "Receiving objects: 100% (735/735), 19.29 MiB | 7.81 MiB/s, done.\n",
            "Resolving deltas: 100% (405/405), done.\n",
            "/usr/local/lib/python3.6/dist-packages/pybullet-gym\n",
            "Obtaining file:///usr/local/lib/python3.6/dist-packages/pybullet-gym\n",
            "Requirement already satisfied: pybullet>=1.7.8 in /usr/local/lib/python3.6/dist-packages (from pybulletgym==0.1) (2.5.5)\n",
            "Installing collected packages: pybulletgym\n",
            "  Running setup.py develop for pybulletgym\n",
            "Successfully installed pybulletgym\n",
            "/root\n",
            "/content\n"
          ],
          "name": "stdout"
        }
      ]
    },
    {
      "cell_type": "code",
      "metadata": {
        "id": "Ha5JP-z9Smrs",
        "colab_type": "code",
        "colab": {}
      },
      "source": [
        "import numpy as np\n",
        "import torch\n",
        "from torch import nn\n",
        "import torch.nn.functional as F\n",
        "from copy import deepcopy\n",
        "\n",
        "import gym\n",
        "import pybulletgym\n",
        "from gym import logger as gymlogger\n",
        "from gym.wrappers import Monitor\n",
        "gymlogger.set_level(40) #error only\n",
        "\n",
        "import numpy as np\n",
        "from tqdm import trange\n",
        "import glob\n",
        "import io\n",
        "import base64\n",
        "from IPython.display import HTML\n",
        "\n",
        "from IPython import display as ipythondisplay\n",
        "import pickle\n",
        "import pandas as pd"
      ],
      "execution_count": 0,
      "outputs": []
    },
    {
      "cell_type": "code",
      "metadata": {
        "id": "NCiIhRUqcm8L",
        "colab_type": "code",
        "colab": {}
      },
      "source": [
        "def to_np(x):\n",
        "    return x.detach().cpu().numpy()\n",
        "\n",
        "def to_tensor(x, requires_grad=False):\n",
        "    x = torch.from_numpy(x)\n",
        "    \n",
        "    if requires_grad:\n",
        "        return x.clone().contiguous().detach().requires_grad_(True)\n",
        "    else:\n",
        "        return x.clone().contiguous().detach()"
      ],
      "execution_count": 0,
      "outputs": []
    },
    {
      "cell_type": "code",
      "metadata": {
        "id": "enkN31Jgbn1J",
        "colab_type": "code",
        "colab": {}
      },
      "source": [
        "class Network(nn.Module):\n",
        "    def __init__(self):\n",
        "        super(Network, self).__init__()\n",
        "        self.layers = nn.Sequential(\n",
        "            nn.Linear(119, 60),\n",
        "            nn.Tanh(),\n",
        "            nn.Linear(60, 1)\n",
        "        )\n",
        "        self.loss = nn.MSELoss()\n",
        "        \n",
        "        \n",
        "    def forward(self, X):\n",
        "        X = X.view(X.size(0), -1)\n",
        "        return self.layers.forward(X)\n",
        "        \n",
        "\n",
        "class AgentNetwork(nn.Module):\n",
        "    \n",
        "    def __init__(self):\n",
        "        super(AgentNetwork, self).__init__()\n",
        "        self.layers = nn.Sequential(\n",
        "            nn.Linear(111, 100),\n",
        "            nn.Tanh(),\n",
        "            nn.Linear(100, 8),\n",
        "            nn.Tanh()\n",
        "        )\n",
        "\n",
        "        \n",
        "    def forward(self, X):\n",
        "        X = X.view(X.size(0), -1)\n",
        "        return self.layers.forward(X)\n",
        "    \n",
        "    \n",
        "    def set_params(self, params):\n",
        "        cpt = 0\n",
        "        for param in self.parameters():\n",
        "            tmp = np.product(param.size())\n",
        "\n",
        "            if torch.cuda.is_available():\n",
        "                param.data.copy_(to_tensor(\n",
        "                    params[cpt:cpt + tmp]).view(param.size()).cuda())\n",
        "            else:\n",
        "                param.data.copy_(to_tensor(\n",
        "                    params[cpt:cpt + tmp]).view(param.size()))\n",
        "            cpt += tmp\n",
        "\n",
        "            \n",
        "    def get_params(self):\n",
        "        return deepcopy(np.hstack([to_np(v).flatten() for v in\n",
        "                                   self.parameters()]))"
      ],
      "execution_count": 0,
      "outputs": []
    },
    {
      "cell_type": "code",
      "metadata": {
        "id": "ZQqvIXiaSXrs",
        "colab_type": "code",
        "colab": {}
      },
      "source": [
        "class CEM:\n",
        "    \n",
        "    def __init__(self, obs_std, no_params, max_steps, max_eval_steps, sigma_st, sigma_end, tau, pop_size, elitist=None):\n",
        "        self.net = net\n",
        "        self.max_steps = max_steps\n",
        "        self.max_eval_steps = max_eval_steps\n",
        "        self.sigma_st = sigma_st\n",
        "        self.sigma_end = sigma_end\n",
        "        self.tau = tau\n",
        "        self.pop_size = pop_size\n",
        "        self.elitist = elitist\n",
        "        \n",
        "        if self.elitist is None:\n",
        "            self.elitist = int(self.pop_size//2)\n",
        "        \n",
        "        self.no_params = no_params\n",
        "        \n",
        "        self.df = pd.DataFrame({'total_steps':[], 'min_eval': [], 'mean_eval': [], 'max_eval': [], 'mean_sigma': [], 'max_sigma': []})\n",
        "        \n",
        "    \n",
        "    def run(self):\n",
        "        actor = AgentNetwork()\n",
        "        \n",
        "        mu = np.ones(self.no_params)\n",
        "        sigma = self.sigma_st\n",
        "        epsilon = 4\n",
        "        \n",
        "        total_steps = actor_steps = 0\n",
        "        \n",
        "        best, best_eval = None, -np.inf\n",
        "        \n",
        "        for total_steps in trange(self.max_steps, position=0, leave=True):\n",
        "            if total_steps % 10 == 0:\n",
        "                idx = (total_steps//10) % 10\n",
        "                data = pickle.load(open(f'drive/My Drive/project_evo/data4/b{idx}.pkl', 'rb'))['X'][:, :111]\n",
        "            pop = self._draw_population(mu, sigma)\n",
        "\n",
        "            evals = np.zeros(self.pop_size)\n",
        "            for i in range(self.pop_size):\n",
        "                actor.set_params(pop[i])\n",
        "                idxs = np.random.choice(len(data), self.max_eval_steps, replace=False)\n",
        "                evals[i] = self._eval(actor, data[idxs])\n",
        "            \n",
        "            evals = np.maximum(0, evals)\n",
        "\n",
        "            \n",
        "            mu, sigma = self._update_params(pop, evals, mu, sigma, epsilon)\n",
        "            epsilon = self.tau*epsilon + (1-self.tau)*(np.mean(self.sigma_end))\n",
        "            \n",
        "\n",
        "            if evals.max() > best_eval:\n",
        "                best, best_eval = pop[np.argmax(evals)], evals.max()\n",
        "                \n",
        "            if total_steps % 5 == 0:\n",
        "                self.df = self.df.append({'total_steps': total_steps, 'min_eval': evals.min(), 'mean_eval': evals.mean(), 'max_eval': evals.max(), 'mean_sigma': sigma.mean(), 'max_sigma': sigma.max()}, ignore_index=True)\n",
        "            \n",
        "            if total_steps % 100 == 0:\n",
        "                to_write = {'params': {'mu': mu, 'sigma': sigma, 'epsilon': epsilon},\n",
        "                           'pop': pop,\n",
        "                           'best': best}\n",
        "                pickle.dump(to_write, open(f'drive/My Drive/project_evo/history/try4/{total_steps}.pkl', 'w+b'), \n",
        "                            pickle.HIGHEST_PROTOCOL)\n",
        "                best, best_eval = None, -np.inf\n",
        "            \n",
        "        return best\n",
        "                \n",
        "    \n",
        "    def _draw_population(self, mu, sigma):\n",
        "        pop = np.zeros((self.pop_size, self.no_params))\n",
        "        for i in range(self.pop_size):\n",
        "            pop[i] = np.random.normal(mu, np.sqrt(sigma))\n",
        "        return pop\n",
        "\n",
        "    \n",
        "    def _eval(self, actor, obs):\n",
        "        '''\n",
        "        evals actor by generating sample from given observation distribution and use nn to predict reward based on action\n",
        "        \n",
        "        returns mean reward gained during eval\n",
        "        '''\n",
        "        # obs = torch.Tensor([np.random.normal(obs_mean, obs_std).astype(np.float32) for _ in range(self.max_eval_steps)])\n",
        "        actor = AgentNetwork()\n",
        "        with torch.no_grad():\n",
        "            actions = actor(obs)\n",
        "            obs_actions = torch.cat((obs, actions), 1)\n",
        "            reward = self.net(obs_actions)\n",
        "        return to_np(reward).mean()\n",
        "        \n",
        "    \n",
        "    \n",
        "    def _update_params(self, pop, evals, old_mu, old_sigma, epsilon):\n",
        "        lambdas = np.array([np.log(1+self.elitist)/(1+i) for i in range(self.elitist)]).reshape(-1, 1)\n",
        "        lambdas /= (lambdas.sum()+1e-10)\n",
        "#         lambdas = np.full(self.elitist, 1/self.elitist)\n",
        "        idxs = np.argsort(evals)[::-1][:self.elitist]\n",
        "        z = pop[idxs]\n",
        "        \n",
        "        mu = np.sum([lambdas[i]*z[i] for i in range(self.elitist)], axis=0)\n",
        "\n",
        "        sigma = np.sum([lambdas[i]*(z[i] - old_mu)**2 for i in range(self.elitist)], axis=0)\n",
        "        sigma += epsilon\n",
        "        \n",
        "        sigma = np.clip(sigma, 0, 20)\n",
        "        \n",
        "        return mu, sigma"
      ],
      "execution_count": 0,
      "outputs": []
    },
    {
      "cell_type": "markdown",
      "metadata": {
        "id": "vy2F8d79cF7E",
        "colab_type": "text"
      },
      "source": [
        "### Find distribution of observations to generate new similar to them"
      ]
    },
    {
      "cell_type": "code",
      "metadata": {
        "id": "vtE79sX3cM-n",
        "colab_type": "code",
        "outputId": "9f417a3a-e191-489a-acc9-5eadf2b187cc",
        "colab": {
          "base_uri": "https://localhost:8080/",
          "height": 34
        }
      },
      "source": [
        "means, stds = [], []\n",
        "for b in trange(10, position=0, leave=True):\n",
        "    d = pickle.load(open(f'drive/My Drive/project_evo/data4/b{b}.pkl', 'rb'))\n",
        "    X = to_np(d['X'])[:, :111]\n",
        "    means.append(X.mean(axis=0))\n",
        "    stds.append(X.std(axis=0))"
      ],
      "execution_count": 0,
      "outputs": [
        {
          "output_type": "stream",
          "text": [
            "100%|██████████| 10/10 [00:43<00:00,  4.36s/it]\n"
          ],
          "name": "stderr"
        }
      ]
    },
    {
      "cell_type": "code",
      "metadata": {
        "id": "hfRH_Rs4fS0q",
        "colab_type": "code",
        "colab": {}
      },
      "source": [
        "obs_mean = np.mean(means, axis=0)\n",
        "obs_std = np.mean(stds, axis=0)"
      ],
      "execution_count": 0,
      "outputs": []
    },
    {
      "cell_type": "code",
      "metadata": {
        "id": "KpUETV8Sga7v",
        "colab_type": "code",
        "outputId": "eefeb43d-ecb0-4061-af3e-88855b438ff5",
        "colab": {
          "base_uri": "https://localhost:8080/",
          "height": 34
        }
      },
      "source": [
        "obs = torch.Tensor([np.random.normal(obs_mean, obs_std).astype(np.float32) for _ in range(50)])\n",
        "actor = AgentNetwork()\n",
        "actions = actor(obs)\n",
        "torch.cat((obs, actions), 1).size()"
      ],
      "execution_count": 0,
      "outputs": [
        {
          "output_type": "execute_result",
          "data": {
            "text/plain": [
              "torch.Size([50, 119])"
            ]
          },
          "metadata": {
            "tags": []
          },
          "execution_count": 7
        }
      ]
    },
    {
      "cell_type": "markdown",
      "metadata": {
        "id": "UaDaQ5qNeEqG",
        "colab_type": "text"
      },
      "source": [
        "To generate new observations we'll use distribution from last batches which were recorded for quite good models."
      ]
    },
    {
      "cell_type": "code",
      "metadata": {
        "id": "cSPgK7e0iXrI",
        "colab_type": "code",
        "colab": {}
      },
      "source": [
        "net = pickle.load(open('drive/My Drive/project_evo/reward_pred/net6_cpu.pkl', 'rb'))"
      ],
      "execution_count": 0,
      "outputs": []
    },
    {
      "cell_type": "code",
      "metadata": {
        "id": "Q6bzK0Snis2k",
        "colab_type": "code",
        "outputId": "eb1fefe7-4724-47dd-d44e-15277d9c337c",
        "colab": {
          "base_uri": "https://localhost:8080/",
          "height": 181
        }
      },
      "source": [
        "cem = CEM(net, obs_mean, obs_std, no_params=12008, max_steps=10001, max_eval_steps=350, \n",
        "          sigma_st=np.full(12008, 2), sigma_end=np.full(12008, 0.1), tau=0.99, pop_size=250)"
      ],
      "execution_count": 0,
      "outputs": [
        {
          "output_type": "error",
          "ename": "NameError",
          "evalue": "ignored",
          "traceback": [
            "\u001b[0;31m---------------------------------------------------------------------------\u001b[0m",
            "\u001b[0;31mNameError\u001b[0m                                 Traceback (most recent call last)",
            "\u001b[0;32m<ipython-input-16-3d6dce086979>\u001b[0m in \u001b[0;36m<module>\u001b[0;34m()\u001b[0m\n\u001b[0;32m----> 1\u001b[0;31m cem = CEM(net, obs_mean, obs_std, no_params=12008, max_steps=10001, max_eval_steps=350, \n\u001b[0m\u001b[1;32m      2\u001b[0m           sigma_st=np.full(12008, 2), sigma_end=np.full(12008, 0.1), tau=0.99, pop_size=250)\n",
            "\u001b[0;31mNameError\u001b[0m: name 'obs_mean' is not defined"
          ]
        }
      ]
    },
    {
      "cell_type": "code",
      "metadata": {
        "id": "2RAzNuwNlGVL",
        "colab_type": "code",
        "outputId": "bfe08382-940f-4b58-cf32-aa62a7e23b51",
        "colab": {
          "base_uri": "https://localhost:8080/",
          "height": 164
        }
      },
      "source": [
        "best = cem.run()"
      ],
      "execution_count": 0,
      "outputs": [
        {
          "output_type": "error",
          "ename": "NameError",
          "evalue": "ignored",
          "traceback": [
            "\u001b[0;31m---------------------------------------------------------------------------\u001b[0m",
            "\u001b[0;31mNameError\u001b[0m                                 Traceback (most recent call last)",
            "\u001b[0;32m<ipython-input-2-05656a121e39>\u001b[0m in \u001b[0;36m<module>\u001b[0;34m()\u001b[0m\n\u001b[0;32m----> 1\u001b[0;31m \u001b[0mbest\u001b[0m \u001b[0;34m=\u001b[0m \u001b[0mcem\u001b[0m\u001b[0;34m.\u001b[0m\u001b[0mrun\u001b[0m\u001b[0;34m(\u001b[0m\u001b[0;34m)\u001b[0m\u001b[0;34m\u001b[0m\u001b[0;34m\u001b[0m\u001b[0m\n\u001b[0m",
            "\u001b[0;31mNameError\u001b[0m: name 'cem' is not defined"
          ]
        }
      ]
    },
    {
      "cell_type": "code",
      "metadata": {
        "id": "NtRTZtq3nthR",
        "colab_type": "code",
        "colab": {}
      },
      "source": [
        "pickle.dump(best, open('drive/My Drive/project_evo/history/try3/best.pkl', 'w+b'), pickle.HIGHEST_PROTOCOL)"
      ],
      "execution_count": 0,
      "outputs": []
    },
    {
      "cell_type": "code",
      "metadata": {
        "id": "lYTpyc11nPPV",
        "colab_type": "code",
        "outputId": "5daeedb8-ff8f-4464-9d47-8e7956a4325a",
        "colab": {
          "base_uri": "https://localhost:8080/",
          "height": 34
        }
      },
      "source": [
        "best = pickle.load(open('drive/My Drive/project_evo/history/try2/1000.pkl', 'rb'))['best']\n",
        "actor = AgentNetwork()\n",
        "# actor.set_params(best)\n",
        "cem._eval(actor)"
      ],
      "execution_count": 0,
      "outputs": [
        {
          "output_type": "execute_result",
          "data": {
            "text/plain": [
              "1.553464"
            ]
          },
          "metadata": {
            "tags": []
          },
          "execution_count": 14
        }
      ]
    },
    {
      "cell_type": "code",
      "metadata": {
        "id": "P3IYZssWzp9o",
        "colab_type": "code",
        "outputId": "64e50760-ef33-490e-e7f2-d1b1dab6e7ed",
        "colab": {
          "base_uri": "https://localhost:8080/"
        }
      },
      "source": [
        "import matplotlib.pyplot as plt\n",
        "plt.plot(np.arange(len(cem.df))*5, cem.df['mean_eval'], c='b')\n",
        "plt.plot(np.arange(len(cem.df))*5, cem.df['min_eval'], c='r')\n",
        "plt.plot(np.arange(len(cem.df))*5, cem.df['max_eval'], c='g')"
      ],
      "execution_count": 0,
      "outputs": [
        {
          "output_type": "error",
          "ename": "NameError",
          "evalue": "ignored",
          "traceback": [
            "\u001b[0;31m---------------------------------------------------------------------------\u001b[0m",
            "\u001b[0;31mNameError\u001b[0m                                 Traceback (most recent call last)",
            "\u001b[0;32m<ipython-input-1-c88ef8421e3b>\u001b[0m in \u001b[0;36m<module>\u001b[0;34m()\u001b[0m\n\u001b[1;32m      1\u001b[0m \u001b[0;32mimport\u001b[0m \u001b[0mmatplotlib\u001b[0m\u001b[0;34m.\u001b[0m\u001b[0mpyplot\u001b[0m \u001b[0;32mas\u001b[0m \u001b[0mplt\u001b[0m\u001b[0;34m\u001b[0m\u001b[0;34m\u001b[0m\u001b[0m\n\u001b[0;32m----> 2\u001b[0;31m \u001b[0mplt\u001b[0m\u001b[0;34m.\u001b[0m\u001b[0mplot\u001b[0m\u001b[0;34m(\u001b[0m\u001b[0mnp\u001b[0m\u001b[0;34m.\u001b[0m\u001b[0marange\u001b[0m\u001b[0;34m(\u001b[0m\u001b[0mlen\u001b[0m\u001b[0;34m(\u001b[0m\u001b[0mcem\u001b[0m\u001b[0;34m.\u001b[0m\u001b[0mdf\u001b[0m\u001b[0;34m)\u001b[0m\u001b[0;34m)\u001b[0m\u001b[0;34m*\u001b[0m\u001b[0;36m5\u001b[0m\u001b[0;34m,\u001b[0m \u001b[0mcem\u001b[0m\u001b[0;34m.\u001b[0m\u001b[0mdf\u001b[0m\u001b[0;34m[\u001b[0m\u001b[0;34m'mean_eval'\u001b[0m\u001b[0;34m]\u001b[0m\u001b[0;34m,\u001b[0m \u001b[0mc\u001b[0m\u001b[0;34m=\u001b[0m\u001b[0;34m'b'\u001b[0m\u001b[0;34m)\u001b[0m\u001b[0;34m\u001b[0m\u001b[0;34m\u001b[0m\u001b[0m\n\u001b[0m\u001b[1;32m      3\u001b[0m \u001b[0mplt\u001b[0m\u001b[0;34m.\u001b[0m\u001b[0mplot\u001b[0m\u001b[0;34m(\u001b[0m\u001b[0mnp\u001b[0m\u001b[0;34m.\u001b[0m\u001b[0marange\u001b[0m\u001b[0;34m(\u001b[0m\u001b[0mlen\u001b[0m\u001b[0;34m(\u001b[0m\u001b[0mcem\u001b[0m\u001b[0;34m.\u001b[0m\u001b[0mdf\u001b[0m\u001b[0;34m)\u001b[0m\u001b[0;34m)\u001b[0m\u001b[0;34m*\u001b[0m\u001b[0;36m5\u001b[0m\u001b[0;34m,\u001b[0m \u001b[0mcem\u001b[0m\u001b[0;34m.\u001b[0m\u001b[0mdf\u001b[0m\u001b[0;34m[\u001b[0m\u001b[0;34m'min_eval'\u001b[0m\u001b[0;34m]\u001b[0m\u001b[0;34m,\u001b[0m \u001b[0mc\u001b[0m\u001b[0;34m=\u001b[0m\u001b[0;34m'r'\u001b[0m\u001b[0;34m)\u001b[0m\u001b[0;34m\u001b[0m\u001b[0;34m\u001b[0m\u001b[0m\n\u001b[1;32m      4\u001b[0m \u001b[0mplt\u001b[0m\u001b[0;34m.\u001b[0m\u001b[0mplot\u001b[0m\u001b[0;34m(\u001b[0m\u001b[0mnp\u001b[0m\u001b[0;34m.\u001b[0m\u001b[0marange\u001b[0m\u001b[0;34m(\u001b[0m\u001b[0mlen\u001b[0m\u001b[0;34m(\u001b[0m\u001b[0mcem\u001b[0m\u001b[0;34m.\u001b[0m\u001b[0mdf\u001b[0m\u001b[0;34m)\u001b[0m\u001b[0;34m)\u001b[0m\u001b[0;34m*\u001b[0m\u001b[0;36m5\u001b[0m\u001b[0;34m,\u001b[0m \u001b[0mcem\u001b[0m\u001b[0;34m.\u001b[0m\u001b[0mdf\u001b[0m\u001b[0;34m[\u001b[0m\u001b[0;34m'max_eval'\u001b[0m\u001b[0;34m]\u001b[0m\u001b[0;34m,\u001b[0m \u001b[0mc\u001b[0m\u001b[0;34m=\u001b[0m\u001b[0;34m'g'\u001b[0m\u001b[0;34m)\u001b[0m\u001b[0;34m\u001b[0m\u001b[0;34m\u001b[0m\u001b[0m\n",
            "\u001b[0;31mNameError\u001b[0m: name 'np' is not defined"
          ]
        }
      ]
    },
    {
      "cell_type": "code",
      "metadata": {
        "id": "FmD36_YHztAV",
        "colab_type": "code",
        "outputId": "9b09e83c-c775-434c-c89a-beecfdc5091c",
        "colab": {
          "base_uri": "https://localhost:8080/",
          "height": 282
        }
      },
      "source": [
        "plt.plot(np.arange(len(cem.df))*5, cem.df['mean_sigma'], c='b')\n",
        "plt.plot(np.arange(len(cem.df))*5, cem.df['max_sigma'], c='r')"
      ],
      "execution_count": 0,
      "outputs": [
        {
          "output_type": "execute_result",
          "data": {
            "text/plain": [
              "[<matplotlib.lines.Line2D at 0x7f8dc8475fd0>]"
            ]
          },
          "metadata": {
            "tags": []
          },
          "execution_count": 16
        },
        {
          "output_type": "display_data",
          "data": {
            "image/png": "[encoded data removed]",
            "text/plain": [
              "<Figure size 432x288 with 1 Axes>"
            ]
          },
          "metadata": {
            "tags": [],
            "needs_background": "light"
          }
        }
      ]
    },
    {
      "cell_type": "markdown",
      "metadata": {
        "id": "wciEH--2bZcP",
        "colab_type": "text"
      },
      "source": [
        "### Use real collected data to train"
      ]
    },
    {
      "cell_type": "code",
      "metadata": {
        "id": "k-0-uCJ_bdCO",
        "colab_type": "code",
        "colab": {}
      },
      "source": [
        "net = pickle.load(open('drive/My Drive/project_evo/reward_pred/net6_cpu.pkl', 'rb'))"
      ],
      "execution_count": 0,
      "outputs": []
    },
    {
      "cell_type": "code",
      "metadata": {
        "id": "5qViGjywbgRj",
        "colab_type": "code",
        "colab": {}
      },
      "source": [
        "cem = CEM(net, no_params=12008, max_steps=801, max_eval_steps=1000, \n",
        "          sigma_st=np.full(12008, 2), sigma_end=np.full(12008, 0.01), tau=0.99, pop_size=150)"
      ],
      "execution_count": 0,
      "outputs": []
    },
    {
      "cell_type": "code",
      "metadata": {
        "id": "RMsYmnVibzmp",
        "colab_type": "code",
        "outputId": "787fd532-b626-430c-cadd-0a752c0301f0",
        "colab": {
          "base_uri": "https://localhost:8080/",
          "height": 34
        }
      },
      "source": [
        "best = cem.run()"
      ],
      "execution_count": 0,
      "outputs": [
        {
          "output_type": "stream",
          "text": [
            "100%|██████████| 801/801 [1:01:39<00:00,  4.62s/it]\n"
          ],
          "name": "stderr"
        }
      ]
    },
    {
      "cell_type": "code",
      "metadata": {
        "id": "wmXSv2lyRp6c",
        "colab_type": "code",
        "colab": {}
      },
      "source": [
        "max_sigma, mean_sigma = [], []\n",
        "for _ in range(0, 5000, 100):\n",
        "    sigmas = pickle.load(open(f'drive/My Drive/project_evo/history/try4/{_}.pkl', 'rb'))['params']['sigma']\n",
        "    max_sigma.append(max(sigmas))\n",
        "    mean_sigma.append(np.mean(sigmas))"
      ],
      "execution_count": 0,
      "outputs": []
    },
    {
      "cell_type": "code",
      "metadata": {
        "id": "p83HcpzUSEQg",
        "colab_type": "code",
        "outputId": "6e11e8dd-2b5c-4246-80d8-3b9d1d82667d",
        "colab": {
          "base_uri": "https://localhost:8080/",
          "height": 282
        }
      },
      "source": [
        "import matplotlib.pyplot as plt\n",
        "plt.plot(range(0, 5000, 100), max_sigma)\n",
        "plt.plot(range(0, 5000, 100), mean_sigma)"
      ],
      "execution_count": 0,
      "outputs": [
        {
          "output_type": "execute_result",
          "data": {
            "text/plain": [
              "[<matplotlib.lines.Line2D at 0x7ff931ab01d0>]"
            ]
          },
          "metadata": {
            "tags": []
          },
          "execution_count": 10
        },
        {
          "output_type": "display_data",
          "data": {
            "image/png": "[encoded data removed]",
            "text/plain": [
              "<Figure size 432x288 with 1 Axes>"
            ]
          },
          "metadata": {
            "tags": [],
            "needs_background": "light"
          }
        }
      ]
    },
    {
      "cell_type": "markdown",
      "metadata": {
        "id": "E13hoTsa3Sfl",
        "colab_type": "text"
      },
      "source": [
        "### Compare predictions of net and real rewards"
      ]
    },
    {
      "cell_type": "code",
      "metadata": {
        "id": "Px0NInnGJRqs",
        "colab_type": "code",
        "colab": {}
      },
      "source": [
        "net = pickle.load(open('drive/My Drive/project_evo/reward_pred/net6_cpu.pkl', 'rb'))"
      ],
      "execution_count": 0,
      "outputs": []
    },
    {
      "cell_type": "markdown",
      "metadata": {
        "id": "qC9bb58xflOB",
        "colab_type": "text"
      },
      "source": [
        "#### Random agent"
      ]
    },
    {
      "cell_type": "code",
      "metadata": {
        "id": "2TKM1ovw3Vxf",
        "colab_type": "code",
        "outputId": "1ee1ad44-72c3-4f1f-acee-093409931e3f",
        "colab": {
          "base_uri": "https://localhost:8080/",
          "height": 85
        }
      },
      "source": [
        "env = gym.make(\"AntMuJoCoEnv-v0\")\n",
        "env._max_episode_steps = 5000\n",
        "observation = env.reset()\n",
        "observation = observation.astype(np.float32)\n",
        "\n",
        "preds, reals = [], []\n",
        "\n",
        "for _ in trange(5000, position=0, leave=True):\n",
        "    action = env.action_space.sample()\n",
        "    obs_action = to_tensor(np.append(observation, action).reshape(1, -1).astype(np.float32))\n",
        "\n",
        "    pred = net(obs_action).item()\n",
        "    preds.append(pred)\n",
        "    \n",
        "    observation, reward, done, info = env.step(action)\n",
        "    observation = observation.astype(np.float32)\n",
        "    reals.append(reward)\n",
        "\n",
        "    if done: \n",
        "        break;\n",
        "\n",
        "env.close()\n",
        "preds, reals = np.array(preds), np.array(reals)"
      ],
      "execution_count": 0,
      "outputs": [
        {
          "output_type": "stream",
          "text": [
            "  0%|          | 1/5000 [00:00<09:24,  8.86it/s]"
          ],
          "name": "stderr"
        },
        {
          "output_type": "stream",
          "text": [
            "current_dir=/usr/local/lib/python3.6/dist-packages/pybullet_envs/bullet\n",
            "WalkerBase::__init__\n",
            "options= \n"
          ],
          "name": "stdout"
        },
        {
          "output_type": "stream",
          "text": [
            "100%|█████████▉| 4984/5000 [00:13<00:00, 272.10it/s]"
          ],
          "name": "stderr"
        }
      ]
    },
    {
      "cell_type": "code",
      "metadata": {
        "id": "4j2G7OBtZH3i",
        "colab_type": "code",
        "outputId": "1d1d5c24-bbfc-4f1f-9a3b-b6e0c6d26241",
        "colab": {
          "base_uri": "https://localhost:8080/",
          "height": 34
        }
      },
      "source": [
        "np.abs(preds-reals).mean()"
      ],
      "execution_count": 0,
      "outputs": [
        {
          "output_type": "execute_result",
          "data": {
            "text/plain": [
              "0.0639072683964856"
            ]
          },
          "metadata": {
            "tags": []
          },
          "execution_count": 6
        }
      ]
    },
    {
      "cell_type": "code",
      "metadata": {
        "id": "3PXRjCqC4qSd",
        "colab_type": "code",
        "outputId": "21f97103-91eb-4acf-edde-fc7c439e7a98",
        "colab": {
          "base_uri": "https://localhost:8080/",
          "height": 34
        }
      },
      "source": [
        "preds.min(), preds.mean(), preds.max()"
      ],
      "execution_count": 0,
      "outputs": [
        {
          "output_type": "execute_result",
          "data": {
            "text/plain": [
              "(0.39088675379753113, 0.6061707505047321, 0.8595887422561646)"
            ]
          },
          "metadata": {
            "tags": []
          },
          "execution_count": 7
        }
      ]
    },
    {
      "cell_type": "code",
      "metadata": {
        "id": "kxEtWJBXP0vH",
        "colab_type": "code",
        "outputId": "9a27b2d5-79e7-4ae2-d205-77b4d3d166cb",
        "colab": {
          "base_uri": "https://localhost:8080/",
          "height": 34
        }
      },
      "source": [
        "reals.min(), reals.mean(), reals.max()"
      ],
      "execution_count": 0,
      "outputs": [
        {
          "output_type": "execute_result",
          "data": {
            "text/plain": [
              "(0.2178725266232504, 0.5976706975607183, 0.918449292916921)"
            ]
          },
          "metadata": {
            "tags": []
          },
          "execution_count": 8
        }
      ]
    },
    {
      "cell_type": "markdown",
      "metadata": {
        "id": "fVjLYsVNfn6E",
        "colab_type": "text"
      },
      "source": [
        "#### Trained agent"
      ]
    },
    {
      "cell_type": "code",
      "metadata": {
        "id": "E6juEvD2f4sj",
        "colab_type": "code",
        "colab": {}
      },
      "source": [
        "ind = pickle.load(open('drive/My Drive/project_evo/history/try1/950.pkl', 'rb'))['best']\n",
        "actor = AgentNetwork()\n",
        "actor.set_params(ind)"
      ],
      "execution_count": 0,
      "outputs": []
    },
    {
      "cell_type": "code",
      "metadata": {
        "id": "smsblBtDgBFW",
        "colab_type": "code",
        "outputId": "5f160576-a9a5-4ab4-9b8b-ee390c060445",
        "colab": {
          "base_uri": "https://localhost:8080/",
          "height": 68
        }
      },
      "source": [
        "env = gym.make(\"AntMuJoCoEnv-v0\")\n",
        "env._max_episode_steps = 5000\n",
        "observation = env.reset()\n",
        "observation = to_tensor(observation.reshape(1, -1).astype(np.float32))\n",
        "\n",
        "preds, reals = [], []\n",
        "\n",
        "\n",
        "for _ in trange(5000, position=0, leave=True):\n",
        "    action = actor(observation)\n",
        "    action = to_np(action)[0]\n",
        "\n",
        "    obs_action = to_tensor(np.append(observation, action).reshape(1, -1).astype(np.float32))\n",
        "\n",
        "    pred = net(obs_action).item()\n",
        "    preds.append(pred)\n",
        "    \n",
        "    observation, reward, done, info = env.step(action)\n",
        "    observation = to_tensor(observation.reshape(1, -1).astype(np.float32))\n",
        "\n",
        "    reals.append(reward)\n",
        "    if done: \n",
        "        break;\n",
        "            \n",
        "env.close()\n",
        "preds, reals = np.array(preds), np.array(reals)"
      ],
      "execution_count": 0,
      "outputs": [
        {
          "output_type": "stream",
          "text": [
            "  1%|          | 45/5000 [00:00<00:11, 447.47it/s]"
          ],
          "name": "stderr"
        },
        {
          "output_type": "stream",
          "text": [
            "WalkerBase::__init__\n",
            "options= \n"
          ],
          "name": "stdout"
        },
        {
          "output_type": "stream",
          "text": [
            "100%|█████████▉| 4983/5000 [00:10<00:00, 459.52it/s]"
          ],
          "name": "stderr"
        }
      ]
    },
    {
      "cell_type": "code",
      "metadata": {
        "id": "dSSItIcBgX_7",
        "colab_type": "code",
        "outputId": "72e3ce86-fccf-4ff0-b1ae-1737de91d812",
        "colab": {
          "base_uri": "https://localhost:8080/",
          "height": 34
        }
      },
      "source": [
        "np.abs(preds-reals).mean()"
      ],
      "execution_count": 0,
      "outputs": [
        {
          "output_type": "execute_result",
          "data": {
            "text/plain": [
              "0.059331676251239536"
            ]
          },
          "metadata": {
            "tags": []
          },
          "execution_count": 11
        }
      ]
    },
    {
      "cell_type": "code",
      "metadata": {
        "id": "jgezmOUwg2Ub",
        "colab_type": "code",
        "outputId": "b2bfaea1-6390-4586-c1ae-e86d50ab6883",
        "colab": {
          "base_uri": "https://localhost:8080/",
          "height": 34
        }
      },
      "source": [
        "preds.min(), preds.mean(), preds.max()"
      ],
      "execution_count": 0,
      "outputs": [
        {
          "output_type": "execute_result",
          "data": {
            "text/plain": [
              "(-1.535481333732605, 1.3618633848980068, 3.4622247219085693)"
            ]
          },
          "metadata": {
            "tags": []
          },
          "execution_count": 12
        }
      ]
    },
    {
      "cell_type": "code",
      "metadata": {
        "id": "_Fcqrb8mg334",
        "colab_type": "code",
        "outputId": "64b16b05-a5f1-4522-eb45-aa7a6b228bf0",
        "colab": {
          "base_uri": "https://localhost:8080/",
          "height": 34
        }
      },
      "source": [
        "reals.min(), reals.mean(), reals.max()"
      ],
      "execution_count": 0,
      "outputs": [
        {
          "output_type": "execute_result",
          "data": {
            "text/plain": [
              "(-1.6334833472268655, 1.3525770004518913, 3.5611453932215227)"
            ]
          },
          "metadata": {
            "tags": []
          },
          "execution_count": 13
        }
      ]
    },
    {
      "cell_type": "code",
      "metadata": {
        "id": "oKV3A_OOg5It",
        "colab_type": "code",
        "outputId": "828a47f2-6b18-4fea-d2d5-b745ef90a076",
        "colab": {
          "base_uri": "https://localhost:8080/",
          "height": 153
        }
      },
      "source": [
        "actor"
      ],
      "execution_count": 0,
      "outputs": [
        {
          "output_type": "execute_result",
          "data": {
            "text/plain": [
              "AgentNetwork(\n",
              "  (layers): Sequential(\n",
              "    (0): Linear(in_features=111, out_features=100, bias=True)\n",
              "    (1): Tanh()\n",
              "    (2): Linear(in_features=100, out_features=8, bias=True)\n",
              "    (3): Tanh()\n",
              "  )\n",
              ")"
            ]
          },
          "metadata": {
            "tags": []
          },
          "execution_count": 9
        }
      ]
    },
    {
      "cell_type": "code",
      "metadata": {
        "id": "wRQLC_8zCzHV",
        "colab_type": "code",
        "colab": {}
      },
      "source": [
        ""
      ],
      "execution_count": 0,
      "outputs": []
    }
  ]
}